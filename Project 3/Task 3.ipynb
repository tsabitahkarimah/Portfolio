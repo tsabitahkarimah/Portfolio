{
 "cells": [
  {
   "cell_type": "markdown",
   "id": "437a6c71-571b-4f5a-89f8-90d25dfff590",
   "metadata": {},
   "source": [
    "# Improving Employee Retention by Predicting Employee Attrition Using Machine Learning"
   ]
  },
  {
   "cell_type": "markdown",
   "id": "cb92b13b",
   "metadata": {},
   "source": [
    "## Background\n",
    "\n",
    "A technology startup is experiencing high employee turnover and the company lacks a deep understanding of the primary reasons why employees are choosing to resign. We assumed to be working in the Data Scientist team and we are expected to provide comprehensive data analysis to identify the contributing factors."
   ]
  },
  {
   "cell_type": "markdown",
   "id": "ffe16699",
   "metadata": {},
   "source": [
    "## Problem\n",
    "\n",
    "The primary problem facing the company is high employee turnover. This not only increases recruitment and training costs but can also disrupt team productivity and ongoing projects. The company needs effective solutions to reduce turnover and improve employee retention."
   ]
  },
  {
   "cell_type": "markdown",
   "id": "0bafd662",
   "metadata": {},
   "source": [
    "## Goals\n",
    "\n",
    "Identify the key factors tha lead to employees to resign and build a predictive model to anticipate employees who are likely to resign in the future. This model will enable the company to take proactive measures."
   ]
  },
  {
   "cell_type": "markdown",
   "id": "c9563fa3",
   "metadata": {},
   "source": [
    "## Data"
   ]
  },
  {
   "cell_type": "code",
   "execution_count": 2,
   "id": "4d68b5a0-f0de-4a67-bba5-5688c3ff6e64",
   "metadata": {
    "tags": []
   },
   "outputs": [],
   "source": [
    "# import libraries\n",
    "\n",
    "import numpy as np\n",
    "import pandas as pd\n",
    "import matplotlib.pyplot as plt \n",
    "import seaborn as sns"
   ]
  },
  {
   "cell_type": "code",
   "execution_count": 3,
   "id": "28b0ffcb-77e9-4280-806f-bc9c47f70a2d",
   "metadata": {
    "tags": []
   },
   "outputs": [],
   "source": [
    "df = pd.read_excel('Improving Employee Retention by Predicting Employee Attrition Using Machine Learning.xlsx')"
   ]
  },
  {
   "cell_type": "markdown",
   "id": "9626ea47-c7ff-4734-9212-77b75e3a03fb",
   "metadata": {},
   "source": [
    "# EDA  "
   ]
  },
  {
   "cell_type": "code",
   "execution_count": 4,
   "id": "2c53b1dc-b79a-492d-b92b-1783e1d81b1c",
   "metadata": {
    "tags": []
   },
   "outputs": [
    {
     "name": "stdout",
     "output_type": "stream",
     "text": [
      "<class 'pandas.core.frame.DataFrame'>\n",
      "RangeIndex: 287 entries, 0 to 286\n",
      "Data columns (total 25 columns):\n",
      " #   Column                              Non-Null Count  Dtype  \n",
      "---  ------                              --------------  -----  \n",
      " 0   Username                            287 non-null    object \n",
      " 1   EnterpriseID                        287 non-null    int64  \n",
      " 2   StatusPernikahan                    287 non-null    object \n",
      " 3   JenisKelamin                        287 non-null    object \n",
      " 4   StatusKepegawaian                   287 non-null    object \n",
      " 5   Pekerjaan                           287 non-null    object \n",
      " 6   JenjangKarir                        287 non-null    object \n",
      " 7   PerformancePegawai                  287 non-null    object \n",
      " 8   AsalDaerah                          287 non-null    object \n",
      " 9   HiringPlatform                      287 non-null    object \n",
      " 10  SkorSurveyEngagement                287 non-null    int64  \n",
      " 11  SkorKepuasanPegawai                 282 non-null    float64\n",
      " 12  JumlahKeikutsertaanProjek           284 non-null    float64\n",
      " 13  JumlahKeterlambatanSebulanTerakhir  286 non-null    float64\n",
      " 14  JumlahKetidakhadiran                281 non-null    float64\n",
      " 15  NomorHP                             287 non-null    object \n",
      " 16  Email                               287 non-null    object \n",
      " 17  TingkatPendidikan                   287 non-null    object \n",
      " 18  PernahBekerja                       287 non-null    object \n",
      " 19  IkutProgramLOP                      29 non-null     float64\n",
      " 20  AlasanResign                        221 non-null    object \n",
      " 21  TanggalLahir                        287 non-null    object \n",
      " 22  TanggalHiring                       287 non-null    object \n",
      " 23  TanggalPenilaianKaryawan            287 non-null    object \n",
      " 24  TanggalResign                       287 non-null    object \n",
      "dtypes: float64(5), int64(2), object(18)\n",
      "memory usage: 56.2+ KB\n"
     ]
    }
   ],
   "source": [
    "df.info()"
   ]
  },
  {
   "cell_type": "markdown",
   "id": "67528555",
   "metadata": {},
   "source": [
    "The data has a total of 25 columns and 287 rows.\n",
    "Columns 'Username', 'EnterpriseID', 'Email', 'NomorHP' are the columns unique to each employees. \n",
    "- 'Username': Username for each employee\n",
    "- 'EnterpriseID': ID for each employee\n",
    "- 'StatusPernikahan': Marriage status \n",
    "- 'JenisKelamin': Gender\n",
    "- 'StatusKepegawaian': Employee status\n",
    "- 'Pekerjaan': Job position\n",
    "- 'JenjangKarir': Progression of an employee's career\n",
    "- 'PerformancePegawai': Employee's performance\n",
    "- 'AsalDaerah': Area of origin \n",
    "- 'HiringPlatform': The platform where employees got hired\n",
    "- 'SkorSurveyEngagement': Engagement survey score\n",
    "- 'SkorKepuasanPegawai': Employee satisfaction score\n",
    "- 'JumlahKeikutsertaanProjek': Number of project participation\n",
    "- 'JumlahKeterlambatanSebulanTerakhir': Number of Late Arrivals in the Past Month\n",
    "- 'JumlahKetidakhadiran': Number of Absences\n",
    "- 'NomorHP': Phone number\n",
    "- 'Email': Email \n",
    "- 'TingkatPendidikan': Level of Education \n",
    "- 'PernahBekerja': Previously Worked\n",
    "- 'IkutProgramLOP': Participated in the LOP Program\n",
    "- 'AlasanResign': Reason for Resignation\n",
    "- 'TanggalLahir': Date of Birth\n",
    "- 'TanggalHiring': Date of Joining the company\n",
    "- 'TanggalPenilaianKaryawan': Date of Employee Performance Review\n",
    "- 'TanggalResign': Date of Resignation"
   ]
  },
  {
   "cell_type": "code",
   "execution_count": 5,
   "id": "0a63d5e6-85ec-455d-b972-f57280ea6d6c",
   "metadata": {
    "tags": []
   },
   "outputs": [
    {
     "data": {
      "text/html": [
       "<div>\n",
       "<style scoped>\n",
       "    .dataframe tbody tr th:only-of-type {\n",
       "        vertical-align: middle;\n",
       "    }\n",
       "\n",
       "    .dataframe tbody tr th {\n",
       "        vertical-align: top;\n",
       "    }\n",
       "\n",
       "    .dataframe thead th {\n",
       "        text-align: right;\n",
       "    }\n",
       "</style>\n",
       "<table border=\"1\" class=\"dataframe\">\n",
       "  <thead>\n",
       "    <tr style=\"text-align: right;\">\n",
       "      <th></th>\n",
       "      <th>Username</th>\n",
       "      <th>EnterpriseID</th>\n",
       "      <th>StatusPernikahan</th>\n",
       "      <th>JenisKelamin</th>\n",
       "      <th>StatusKepegawaian</th>\n",
       "      <th>Pekerjaan</th>\n",
       "      <th>JenjangKarir</th>\n",
       "      <th>PerformancePegawai</th>\n",
       "      <th>AsalDaerah</th>\n",
       "      <th>HiringPlatform</th>\n",
       "      <th>...</th>\n",
       "      <th>NomorHP</th>\n",
       "      <th>Email</th>\n",
       "      <th>TingkatPendidikan</th>\n",
       "      <th>PernahBekerja</th>\n",
       "      <th>IkutProgramLOP</th>\n",
       "      <th>AlasanResign</th>\n",
       "      <th>TanggalLahir</th>\n",
       "      <th>TanggalHiring</th>\n",
       "      <th>TanggalPenilaianKaryawan</th>\n",
       "      <th>TanggalResign</th>\n",
       "    </tr>\n",
       "  </thead>\n",
       "  <tbody>\n",
       "    <tr>\n",
       "      <th>261</th>\n",
       "      <td>madSardines6</td>\n",
       "      <td>106459</td>\n",
       "      <td>Belum_menikah</td>\n",
       "      <td>Wanita</td>\n",
       "      <td>FullTime</td>\n",
       "      <td>Software Engineer (Front End)</td>\n",
       "      <td>Freshgraduate_program</td>\n",
       "      <td>Biasa</td>\n",
       "      <td>Jakarta Pusat</td>\n",
       "      <td>Indeed</td>\n",
       "      <td>...</td>\n",
       "      <td>+6281393313xxx</td>\n",
       "      <td>madSardines6012@yahoo.com</td>\n",
       "      <td>Sarjana</td>\n",
       "      <td>1</td>\n",
       "      <td>NaN</td>\n",
       "      <td>NaN</td>\n",
       "      <td>1985-01-07</td>\n",
       "      <td>2011-01-10</td>\n",
       "      <td>2017-04-05</td>\n",
       "      <td>-</td>\n",
       "    </tr>\n",
       "    <tr>\n",
       "      <th>8</th>\n",
       "      <td>lyingMussel8</td>\n",
       "      <td>110533</td>\n",
       "      <td>Bercerai</td>\n",
       "      <td>Pria</td>\n",
       "      <td>FullTime</td>\n",
       "      <td>Software Engineer (Android)</td>\n",
       "      <td>Senior_level</td>\n",
       "      <td>Sangat_kurang</td>\n",
       "      <td>Jakarta Selatan</td>\n",
       "      <td>Employee_Referral</td>\n",
       "      <td>...</td>\n",
       "      <td>+6281276485xxx</td>\n",
       "      <td>lyingMussel8944@proton.com</td>\n",
       "      <td>Magister</td>\n",
       "      <td>1</td>\n",
       "      <td>NaN</td>\n",
       "      <td>masih_bekerja</td>\n",
       "      <td>1980-08-26</td>\n",
       "      <td>2016-07-06</td>\n",
       "      <td>2020-2-28</td>\n",
       "      <td>-</td>\n",
       "    </tr>\n",
       "    <tr>\n",
       "      <th>129</th>\n",
       "      <td>soreEggs6</td>\n",
       "      <td>105592</td>\n",
       "      <td>Lainnya</td>\n",
       "      <td>Pria</td>\n",
       "      <td>FullTime</td>\n",
       "      <td>Software Engineer (Android)</td>\n",
       "      <td>Freshgraduate_program</td>\n",
       "      <td>Sangat_kurang</td>\n",
       "      <td>Jakarta Timur</td>\n",
       "      <td>LinkedIn</td>\n",
       "      <td>...</td>\n",
       "      <td>+6287725725xxx</td>\n",
       "      <td>soreEggs6451@yahoo.com</td>\n",
       "      <td>Magister</td>\n",
       "      <td>1</td>\n",
       "      <td>NaN</td>\n",
       "      <td>kejelasan_karir</td>\n",
       "      <td>1979-09-14</td>\n",
       "      <td>2011-11-07</td>\n",
       "      <td>2020-2-27</td>\n",
       "      <td>2014-04-07</td>\n",
       "    </tr>\n",
       "    <tr>\n",
       "      <th>96</th>\n",
       "      <td>cockyBuzzard5</td>\n",
       "      <td>110932</td>\n",
       "      <td>Menikah</td>\n",
       "      <td>Wanita</td>\n",
       "      <td>FullTime</td>\n",
       "      <td>Software Engineer (Android)</td>\n",
       "      <td>Freshgraduate_program</td>\n",
       "      <td>Bagus</td>\n",
       "      <td>Jakarta Pusat</td>\n",
       "      <td>LinkedIn</td>\n",
       "      <td>...</td>\n",
       "      <td>+6289794136xxx</td>\n",
       "      <td>cockyBuzzard5324@proton.com</td>\n",
       "      <td>Sarjana</td>\n",
       "      <td>1</td>\n",
       "      <td>NaN</td>\n",
       "      <td>masih_bekerja</td>\n",
       "      <td>1966-03-17</td>\n",
       "      <td>2014-05-05</td>\n",
       "      <td>2020-1-21</td>\n",
       "      <td>-</td>\n",
       "    </tr>\n",
       "    <tr>\n",
       "      <th>103</th>\n",
       "      <td>sincereSeafowl4</td>\n",
       "      <td>110793</td>\n",
       "      <td>Belum_menikah</td>\n",
       "      <td>Wanita</td>\n",
       "      <td>FullTime</td>\n",
       "      <td>Software Engineer (Back End)</td>\n",
       "      <td>Senior_level</td>\n",
       "      <td>Sangat_kurang</td>\n",
       "      <td>Jakarta Barat</td>\n",
       "      <td>Diversity_Job_Fair</td>\n",
       "      <td>...</td>\n",
       "      <td>+6285756514xxx</td>\n",
       "      <td>sincereSeafowl4749@hotmail.com</td>\n",
       "      <td>Sarjana</td>\n",
       "      <td>1</td>\n",
       "      <td>NaN</td>\n",
       "      <td>jam_kerja</td>\n",
       "      <td>1970-05-15</td>\n",
       "      <td>2011-11-07</td>\n",
       "      <td>2017-4-29</td>\n",
       "      <td>2018-11-15</td>\n",
       "    </tr>\n",
       "  </tbody>\n",
       "</table>\n",
       "<p>5 rows × 25 columns</p>\n",
       "</div>"
      ],
      "text/plain": [
       "            Username  EnterpriseID StatusPernikahan JenisKelamin  \\\n",
       "261     madSardines6        106459    Belum_menikah       Wanita   \n",
       "8       lyingMussel8        110533         Bercerai         Pria   \n",
       "129        soreEggs6        105592          Lainnya         Pria   \n",
       "96     cockyBuzzard5        110932          Menikah       Wanita   \n",
       "103  sincereSeafowl4        110793    Belum_menikah       Wanita   \n",
       "\n",
       "    StatusKepegawaian                      Pekerjaan           JenjangKarir  \\\n",
       "261          FullTime  Software Engineer (Front End)  Freshgraduate_program   \n",
       "8            FullTime    Software Engineer (Android)           Senior_level   \n",
       "129          FullTime    Software Engineer (Android)  Freshgraduate_program   \n",
       "96           FullTime    Software Engineer (Android)  Freshgraduate_program   \n",
       "103          FullTime   Software Engineer (Back End)           Senior_level   \n",
       "\n",
       "    PerformancePegawai       AsalDaerah      HiringPlatform  ...  \\\n",
       "261              Biasa    Jakarta Pusat              Indeed  ...   \n",
       "8        Sangat_kurang  Jakarta Selatan   Employee_Referral  ...   \n",
       "129      Sangat_kurang    Jakarta Timur            LinkedIn  ...   \n",
       "96               Bagus    Jakarta Pusat            LinkedIn  ...   \n",
       "103      Sangat_kurang    Jakarta Barat  Diversity_Job_Fair  ...   \n",
       "\n",
       "            NomorHP                           Email  TingkatPendidikan  \\\n",
       "261  +6281393313xxx       madSardines6012@yahoo.com            Sarjana   \n",
       "8    +6281276485xxx      lyingMussel8944@proton.com           Magister   \n",
       "129  +6287725725xxx          soreEggs6451@yahoo.com           Magister   \n",
       "96   +6289794136xxx     cockyBuzzard5324@proton.com            Sarjana   \n",
       "103  +6285756514xxx  sincereSeafowl4749@hotmail.com            Sarjana   \n",
       "\n",
       "     PernahBekerja  IkutProgramLOP     AlasanResign TanggalLahir  \\\n",
       "261              1             NaN              NaN   1985-01-07   \n",
       "8                1             NaN    masih_bekerja   1980-08-26   \n",
       "129              1             NaN  kejelasan_karir   1979-09-14   \n",
       "96               1             NaN    masih_bekerja   1966-03-17   \n",
       "103              1             NaN        jam_kerja   1970-05-15   \n",
       "\n",
       "    TanggalHiring TanggalPenilaianKaryawan  TanggalResign  \n",
       "261    2011-01-10               2017-04-05              -  \n",
       "8      2016-07-06                2020-2-28              -  \n",
       "129    2011-11-07                2020-2-27     2014-04-07  \n",
       "96     2014-05-05                2020-1-21              -  \n",
       "103    2011-11-07                2017-4-29     2018-11-15  \n",
       "\n",
       "[5 rows x 25 columns]"
      ]
     },
     "execution_count": 5,
     "metadata": {},
     "output_type": "execute_result"
    }
   ],
   "source": [
    "df.sample(5)"
   ]
  },
  {
   "cell_type": "code",
   "execution_count": 6,
   "id": "28db4a7a-fbe9-44e0-b24f-277240457756",
   "metadata": {
    "tags": []
   },
   "outputs": [
    {
     "name": "stdout",
     "output_type": "stream",
     "text": [
      "------------------------------\n",
      "Columns: StatusPernikahan\n",
      "StatusPernikahan\n",
      "Belum_menikah    132\n",
      "Menikah           57\n",
      "Lainnya           48\n",
      "Bercerai          47\n",
      "-                  3\n",
      "Name: count, dtype: int64\n",
      "------------------------------\n",
      "Columns: JenisKelamin\n",
      "JenisKelamin\n",
      "Wanita    167\n",
      "Pria      120\n",
      "Name: count, dtype: int64\n",
      "------------------------------\n",
      "Columns: StatusKepegawaian\n",
      "StatusKepegawaian\n",
      "FullTime      217\n",
      "Outsource      66\n",
      "Internship      4\n",
      "Name: count, dtype: int64\n",
      "------------------------------\n",
      "Columns: Pekerjaan\n",
      "Pekerjaan\n",
      "Software Engineer (Back End)      109\n",
      "Software Engineer (Front End)      72\n",
      "Software Engineer (Android)        24\n",
      "Product Design (UI & UX)           24\n",
      "Product Manager                    17\n",
      "Data Analyst                       16\n",
      "Data Engineer                      10\n",
      "Scrum Master                        3\n",
      "Software Engineer (iOS)             3\n",
      "DevOps Engineer                     3\n",
      "Digital Product Manager             2\n",
      "Machine Learning Engineer           2\n",
      "Product Design (UX Researcher)      1\n",
      "Software Architect                  1\n",
      "Name: count, dtype: int64\n",
      "------------------------------\n",
      "Columns: JenjangKarir\n",
      "JenjangKarir\n",
      "Freshgraduate_program    169\n",
      "Mid_level                 70\n",
      "Senior_level              48\n",
      "Name: count, dtype: int64\n",
      "------------------------------\n",
      "Columns: PerformancePegawai\n",
      "PerformancePegawai\n",
      "Biasa            85\n",
      "Bagus            74\n",
      "Sangat_bagus     73\n",
      "Kurang           31\n",
      "Sangat_kurang    24\n",
      "Name: count, dtype: int64\n",
      "------------------------------\n",
      "Columns: AsalDaerah\n",
      "AsalDaerah\n",
      "Jakarta Pusat      72\n",
      "Jakarta Timur      63\n",
      "Jakarta Barat      55\n",
      "Jakarta Utara      52\n",
      "Jakarta Selatan    45\n",
      "Name: count, dtype: int64\n",
      "------------------------------\n",
      "Columns: HiringPlatform\n",
      "HiringPlatform\n",
      "Indeed                     85\n",
      "LinkedIn                   69\n",
      "Google_Search              46\n",
      "Diversity_Job_Fair         27\n",
      "Employee_Referral          24\n",
      "CareerBuilder              22\n",
      "Website                    11\n",
      "Other                       2\n",
      "On-line_Web_application     1\n",
      "Name: count, dtype: int64\n",
      "------------------------------\n",
      "Columns: SkorSurveyEngagement\n",
      "SkorSurveyEngagement\n",
      "3    132\n",
      "4     96\n",
      "2     43\n",
      "1     14\n",
      "5      2\n",
      "Name: count, dtype: int64\n",
      "------------------------------\n",
      "Columns: SkorKepuasanPegawai\n",
      "SkorKepuasanPegawai\n",
      "3.0    96\n",
      "5.0    91\n",
      "4.0    85\n",
      "2.0     8\n",
      "1.0     2\n",
      "Name: count, dtype: int64\n",
      "------------------------------\n",
      "Columns: JumlahKeikutsertaanProjek\n",
      "JumlahKeikutsertaanProjek\n",
      "0.0    221\n",
      "6.0     20\n",
      "5.0     20\n",
      "7.0      9\n",
      "4.0      8\n",
      "3.0      3\n",
      "1.0      1\n",
      "2.0      1\n",
      "8.0      1\n",
      "Name: count, dtype: int64\n",
      "------------------------------\n",
      "Columns: JumlahKeterlambatanSebulanTerakhir\n",
      "JumlahKeterlambatanSebulanTerakhir\n",
      "0.0    255\n",
      "4.0      8\n",
      "3.0      6\n",
      "2.0      6\n",
      "5.0      5\n",
      "6.0      5\n",
      "1.0      1\n",
      "Name: count, dtype: int64\n",
      "------------------------------\n",
      "Columns: JumlahKetidakhadiran\n",
      "JumlahKetidakhadiran\n",
      "4.0     20\n",
      "2.0     20\n",
      "15.0    19\n",
      "7.0     17\n",
      "16.0    17\n",
      "6.0     16\n",
      "14.0    16\n",
      "3.0     16\n",
      "19.0    15\n",
      "13.0    15\n",
      "17.0    14\n",
      "1.0     14\n",
      "20.0    13\n",
      "9.0     12\n",
      "11.0    12\n",
      "10.0    10\n",
      "8.0     10\n",
      "5.0      9\n",
      "12.0     7\n",
      "18.0     7\n",
      "50.0     1\n",
      "55.0     1\n",
      "Name: count, dtype: int64\n",
      "------------------------------\n",
      "Columns: TingkatPendidikan\n",
      "TingkatPendidikan\n",
      "Sarjana     176\n",
      "Magister     87\n",
      "Doktor       24\n",
      "Name: count, dtype: int64\n",
      "------------------------------\n",
      "Columns: PernahBekerja\n",
      "PernahBekerja\n",
      "1      286\n",
      "yes      1\n",
      "Name: count, dtype: int64\n",
      "------------------------------\n",
      "Columns: IkutProgramLOP\n",
      "IkutProgramLOP\n",
      "1.0    15\n",
      "0.0    14\n",
      "Name: count, dtype: int64\n",
      "------------------------------\n",
      "Columns: AlasanResign\n",
      "AlasanResign\n",
      "masih_bekerja               132\n",
      "jam_kerja                    16\n",
      "ganti_karir                  14\n",
      "kejelasan_karir              11\n",
      "tidak_bisa_remote            11\n",
      "toxic_culture                10\n",
      "leadership                    9\n",
      "tidak_bahagia                 8\n",
      "internal_conflict             4\n",
      "Product Design (UI & UX)      4\n",
      "apresiasi                     2\n",
      "Name: count, dtype: int64\n",
      "------------------------------\n",
      "Columns: TanggalLahir\n",
      "TanggalLahir\n",
      "1987-06-14    2\n",
      "1976-09-22    2\n",
      "1984-07-07    2\n",
      "1972-07-01    1\n",
      "1965-05-07    1\n",
      "             ..\n",
      "1970-05-15    1\n",
      "1991-01-28    1\n",
      "1970-04-24    1\n",
      "1987-01-07    1\n",
      "1981-08-10    1\n",
      "Name: count, Length: 284, dtype: int64\n",
      "------------------------------\n",
      "Columns: TanggalHiring\n",
      "TanggalHiring\n",
      "2011-01-10    12\n",
      "2015-01-05    11\n",
      "2015-3-30      9\n",
      "2014-9-29      9\n",
      "2013-9-30      9\n",
      "              ..\n",
      "2016-07-04     1\n",
      "2012-4-30      1\n",
      "2014-5-18      1\n",
      "2011-1-21      1\n",
      "2012-8-16      1\n",
      "Name: count, Length: 97, dtype: int64\n",
      "------------------------------\n",
      "Columns: TanggalPenilaianKaryawan\n",
      "TanggalPenilaianKaryawan\n",
      "2020-1-14     17\n",
      "2020-2-18     12\n",
      "2020-1-21     10\n",
      "2020-1-28      9\n",
      "2020-2-25      9\n",
      "              ..\n",
      "2015-03-04     1\n",
      "2014-04-02     1\n",
      "2018-03-02     1\n",
      "2014-2-20      1\n",
      "2014-04-05     1\n",
      "Name: count, Length: 127, dtype: int64\n",
      "------------------------------\n",
      "Columns: TanggalResign\n",
      "TanggalResign\n",
      "-             198\n",
      "2018-04-01      9\n",
      "2014-8-19       9\n",
      "2018-06-08      9\n",
      "2017-11-15      9\n",
      "2013-5-30       4\n",
      "2020-8-19       2\n",
      "2014-9-24       2\n",
      "2015-04-01      1\n",
      "2016-01-11      1\n",
      "2016-10-31      1\n",
      "2017-12-15      1\n",
      "2015-6-18       1\n",
      "2014-04-07      1\n",
      "2017-4-15       1\n",
      "2015-06-05      1\n",
      "2017-11-14      1\n",
      "2018-9-15       1\n",
      "2019-9-26       1\n",
      "2017-09-05      1\n",
      "2016-4-24       1\n",
      "2017-06-04      1\n",
      "2016-01-09      1\n",
      "2017-12-12      1\n",
      "2016-3-31       1\n",
      "2015-4-15       1\n",
      "2020-9-26       1\n",
      "2020-4-29       1\n",
      "2015-01-09      1\n",
      "2018-11-15      1\n",
      "2018-6-16       1\n",
      "2018-09-06      1\n",
      "2019-01-12      1\n",
      "2018-9-19       1\n",
      "2019-04-06      1\n",
      "2019-08-04      1\n",
      "2017-09-12      1\n",
      "2016-04-04      1\n",
      "2018-2-19       1\n",
      "2016-08-07      1\n",
      "2015-6-15       1\n",
      "2016-08-02      1\n",
      "2015-01-07      1\n",
      "2013-9-26       1\n",
      "2018-9-23       1\n",
      "2017-11-04      1\n",
      "2019-06-06      1\n",
      "2020-9-27       1\n",
      "2020-2-25       1\n",
      "2017-3-15       1\n",
      "2018-5-17       1\n",
      "2015-6-24       1\n",
      "2017-6-25       1\n",
      "Name: count, dtype: int64\n",
      "==============================\n"
     ]
    }
   ],
   "source": [
    "cat_var = df.drop(columns=['Username','EnterpriseID','NomorHP','Email'])\n",
    "\n",
    "\n",
    "for i in cat_var:\n",
    "    print(\"-\" * 30) \n",
    "    print(f'Columns: {i}')\n",
    "    print(cat_var[i].value_counts())\n",
    "print(\"=\" * 30) "
   ]
  },
  {
   "cell_type": "code",
   "execution_count": 7,
   "id": "d949395c",
   "metadata": {},
   "outputs": [
    {
     "data": {
      "text/html": [
       "<div>\n",
       "<style scoped>\n",
       "    .dataframe tbody tr th:only-of-type {\n",
       "        vertical-align: middle;\n",
       "    }\n",
       "\n",
       "    .dataframe tbody tr th {\n",
       "        vertical-align: top;\n",
       "    }\n",
       "\n",
       "    .dataframe thead th {\n",
       "        text-align: right;\n",
       "    }\n",
       "</style>\n",
       "<table border=\"1\" class=\"dataframe\">\n",
       "  <thead>\n",
       "    <tr style=\"text-align: right;\">\n",
       "      <th></th>\n",
       "      <th>Username</th>\n",
       "      <th>EnterpriseID</th>\n",
       "      <th>StatusPernikahan</th>\n",
       "      <th>JenisKelamin</th>\n",
       "      <th>StatusKepegawaian</th>\n",
       "      <th>Pekerjaan</th>\n",
       "      <th>JenjangKarir</th>\n",
       "      <th>PerformancePegawai</th>\n",
       "      <th>AsalDaerah</th>\n",
       "      <th>HiringPlatform</th>\n",
       "      <th>...</th>\n",
       "      <th>NomorHP</th>\n",
       "      <th>Email</th>\n",
       "      <th>TingkatPendidikan</th>\n",
       "      <th>PernahBekerja</th>\n",
       "      <th>IkutProgramLOP</th>\n",
       "      <th>AlasanResign</th>\n",
       "      <th>TanggalLahir</th>\n",
       "      <th>TanggalHiring</th>\n",
       "      <th>TanggalPenilaianKaryawan</th>\n",
       "      <th>TanggalResign</th>\n",
       "    </tr>\n",
       "  </thead>\n",
       "  <tbody>\n",
       "    <tr>\n",
       "      <th>27</th>\n",
       "      <td>pluckyApples4</td>\n",
       "      <td>110566</td>\n",
       "      <td>Menikah</td>\n",
       "      <td>Wanita</td>\n",
       "      <td>FullTime</td>\n",
       "      <td>Software Engineer (Front End)</td>\n",
       "      <td>Senior_level</td>\n",
       "      <td>Biasa</td>\n",
       "      <td>Jakarta Selatan</td>\n",
       "      <td>LinkedIn</td>\n",
       "      <td>...</td>\n",
       "      <td>+6281988935xxx</td>\n",
       "      <td>pluckyApples4880@icloud.com</td>\n",
       "      <td>Sarjana</td>\n",
       "      <td>1</td>\n",
       "      <td>NaN</td>\n",
       "      <td>Product Design (UI &amp; UX)</td>\n",
       "      <td>1987-04-10</td>\n",
       "      <td>2016-07-06</td>\n",
       "      <td>2020-1-28</td>\n",
       "      <td>2016-08-07</td>\n",
       "    </tr>\n",
       "    <tr>\n",
       "      <th>124</th>\n",
       "      <td>dearKitten3</td>\n",
       "      <td>111266</td>\n",
       "      <td>Belum_menikah</td>\n",
       "      <td>Pria</td>\n",
       "      <td>FullTime</td>\n",
       "      <td>Product Design (UI &amp; UX)</td>\n",
       "      <td>Freshgraduate_program</td>\n",
       "      <td>Sangat_bagus</td>\n",
       "      <td>Jakarta Utara</td>\n",
       "      <td>Diversity_Job_Fair</td>\n",
       "      <td>...</td>\n",
       "      <td>+6289679074xxx</td>\n",
       "      <td>dearKitten3235@yahoo.com</td>\n",
       "      <td>Sarjana</td>\n",
       "      <td>1</td>\n",
       "      <td>NaN</td>\n",
       "      <td>Product Design (UI &amp; UX)</td>\n",
       "      <td>1989-05-02</td>\n",
       "      <td>2011-9-26</td>\n",
       "      <td>2014-03-02</td>\n",
       "      <td>2017-12-15</td>\n",
       "    </tr>\n",
       "    <tr>\n",
       "      <th>147</th>\n",
       "      <td>brainyLlama9</td>\n",
       "      <td>100884</td>\n",
       "      <td>Menikah</td>\n",
       "      <td>Wanita</td>\n",
       "      <td>FullTime</td>\n",
       "      <td>Software Engineer (Front End)</td>\n",
       "      <td>Freshgraduate_program</td>\n",
       "      <td>Sangat_bagus</td>\n",
       "      <td>Jakarta Timur</td>\n",
       "      <td>LinkedIn</td>\n",
       "      <td>...</td>\n",
       "      <td>+6285503547xxx</td>\n",
       "      <td>brainyLlama9557@gmail.com</td>\n",
       "      <td>Sarjana</td>\n",
       "      <td>1</td>\n",
       "      <td>NaN</td>\n",
       "      <td>Product Design (UI &amp; UX)</td>\n",
       "      <td>1969-02-09</td>\n",
       "      <td>2012-03-07</td>\n",
       "      <td>2014-02-01</td>\n",
       "      <td>2016-4-24</td>\n",
       "    </tr>\n",
       "    <tr>\n",
       "      <th>203</th>\n",
       "      <td>hushedBobolink8</td>\n",
       "      <td>106392</td>\n",
       "      <td>Menikah</td>\n",
       "      <td>Wanita</td>\n",
       "      <td>FullTime</td>\n",
       "      <td>Software Engineer (Back End)</td>\n",
       "      <td>Mid_level</td>\n",
       "      <td>Sangat_bagus</td>\n",
       "      <td>Jakarta Selatan</td>\n",
       "      <td>Website</td>\n",
       "      <td>...</td>\n",
       "      <td>+6285522082xxx</td>\n",
       "      <td>hushedBobolink8263@outlook.com</td>\n",
       "      <td>Sarjana</td>\n",
       "      <td>1</td>\n",
       "      <td>NaN</td>\n",
       "      <td>Product Design (UI &amp; UX)</td>\n",
       "      <td>1988-08-29</td>\n",
       "      <td>2012-01-09</td>\n",
       "      <td>2020-02-01</td>\n",
       "      <td>2018-04-01</td>\n",
       "    </tr>\n",
       "  </tbody>\n",
       "</table>\n",
       "<p>4 rows × 25 columns</p>\n",
       "</div>"
      ],
      "text/plain": [
       "            Username  EnterpriseID StatusPernikahan JenisKelamin  \\\n",
       "27     pluckyApples4        110566          Menikah       Wanita   \n",
       "124      dearKitten3        111266    Belum_menikah         Pria   \n",
       "147     brainyLlama9        100884          Menikah       Wanita   \n",
       "203  hushedBobolink8        106392          Menikah       Wanita   \n",
       "\n",
       "    StatusKepegawaian                      Pekerjaan           JenjangKarir  \\\n",
       "27           FullTime  Software Engineer (Front End)           Senior_level   \n",
       "124          FullTime       Product Design (UI & UX)  Freshgraduate_program   \n",
       "147          FullTime  Software Engineer (Front End)  Freshgraduate_program   \n",
       "203          FullTime   Software Engineer (Back End)              Mid_level   \n",
       "\n",
       "    PerformancePegawai       AsalDaerah      HiringPlatform  ...  \\\n",
       "27               Biasa  Jakarta Selatan            LinkedIn  ...   \n",
       "124       Sangat_bagus    Jakarta Utara  Diversity_Job_Fair  ...   \n",
       "147       Sangat_bagus    Jakarta Timur            LinkedIn  ...   \n",
       "203       Sangat_bagus  Jakarta Selatan             Website  ...   \n",
       "\n",
       "            NomorHP                           Email  TingkatPendidikan  \\\n",
       "27   +6281988935xxx     pluckyApples4880@icloud.com            Sarjana   \n",
       "124  +6289679074xxx        dearKitten3235@yahoo.com            Sarjana   \n",
       "147  +6285503547xxx       brainyLlama9557@gmail.com            Sarjana   \n",
       "203  +6285522082xxx  hushedBobolink8263@outlook.com            Sarjana   \n",
       "\n",
       "     PernahBekerja  IkutProgramLOP              AlasanResign TanggalLahir  \\\n",
       "27               1             NaN  Product Design (UI & UX)   1987-04-10   \n",
       "124              1             NaN  Product Design (UI & UX)   1989-05-02   \n",
       "147              1             NaN  Product Design (UI & UX)   1969-02-09   \n",
       "203              1             NaN  Product Design (UI & UX)   1988-08-29   \n",
       "\n",
       "    TanggalHiring TanggalPenilaianKaryawan  TanggalResign  \n",
       "27     2016-07-06                2020-1-28     2016-08-07  \n",
       "124     2011-9-26               2014-03-02     2017-12-15  \n",
       "147    2012-03-07               2014-02-01      2016-4-24  \n",
       "203    2012-01-09               2020-02-01     2018-04-01  \n",
       "\n",
       "[4 rows x 25 columns]"
      ]
     },
     "execution_count": 7,
     "metadata": {},
     "output_type": "execute_result"
    }
   ],
   "source": [
    "df[df['AlasanResign'] == 'Product Design (UI & UX)']"
   ]
  },
  {
   "cell_type": "code",
   "execution_count": 8,
   "id": "7037b088-c2d2-48a6-982a-2d120ca9333e",
   "metadata": {
    "tags": []
   },
   "outputs": [],
   "source": [
    "# Change data types to data time\n",
    "\n",
    "timestamp_var = ['TanggalLahir','TanggalHiring','TanggalPenilaianKaryawan']\n",
    "for i in timestamp_var:\n",
    "    df[i] = pd.to_datetime(df[i])\n",
    "    "
   ]
  },
  {
   "cell_type": "markdown",
   "id": "68eca06e",
   "metadata": {},
   "source": [
    "There is '-' value in 'TanggalResign', hence, it cant be replaced with date time data type"
   ]
  },
  {
   "cell_type": "code",
   "execution_count": 9,
   "id": "61ef044c-c7c1-4042-8270-808b8c650056",
   "metadata": {
    "tags": []
   },
   "outputs": [
    {
     "data": {
      "text/html": [
       "<div>\n",
       "<style scoped>\n",
       "    .dataframe tbody tr th:only-of-type {\n",
       "        vertical-align: middle;\n",
       "    }\n",
       "\n",
       "    .dataframe tbody tr th {\n",
       "        vertical-align: top;\n",
       "    }\n",
       "\n",
       "    .dataframe thead th {\n",
       "        text-align: right;\n",
       "    }\n",
       "</style>\n",
       "<table border=\"1\" class=\"dataframe\">\n",
       "  <thead>\n",
       "    <tr style=\"text-align: right;\">\n",
       "      <th></th>\n",
       "      <th>EnterpriseID</th>\n",
       "      <th>SkorSurveyEngagement</th>\n",
       "      <th>SkorKepuasanPegawai</th>\n",
       "      <th>JumlahKeikutsertaanProjek</th>\n",
       "      <th>JumlahKeterlambatanSebulanTerakhir</th>\n",
       "      <th>JumlahKetidakhadiran</th>\n",
       "      <th>IkutProgramLOP</th>\n",
       "      <th>TanggalLahir</th>\n",
       "      <th>TanggalHiring</th>\n",
       "      <th>TanggalPenilaianKaryawan</th>\n",
       "    </tr>\n",
       "  </thead>\n",
       "  <tbody>\n",
       "    <tr>\n",
       "      <th>count</th>\n",
       "      <td>287.000000</td>\n",
       "      <td>287.000000</td>\n",
       "      <td>282.000000</td>\n",
       "      <td>284.000000</td>\n",
       "      <td>286.000000</td>\n",
       "      <td>281.000000</td>\n",
       "      <td>29.000000</td>\n",
       "      <td>287</td>\n",
       "      <td>287</td>\n",
       "      <td>287</td>\n",
       "    </tr>\n",
       "    <tr>\n",
       "      <th>mean</th>\n",
       "      <td>105923.324042</td>\n",
       "      <td>3.101045</td>\n",
       "      <td>3.904255</td>\n",
       "      <td>1.179577</td>\n",
       "      <td>0.412587</td>\n",
       "      <td>10.448399</td>\n",
       "      <td>0.517241</td>\n",
       "      <td>1979-02-14 01:15:15.679442496</td>\n",
       "      <td>2013-02-04 23:14:50.592334592</td>\n",
       "      <td>2018-09-29 18:48:55.191637504</td>\n",
       "    </tr>\n",
       "    <tr>\n",
       "      <th>min</th>\n",
       "      <td>100282.000000</td>\n",
       "      <td>1.000000</td>\n",
       "      <td>1.000000</td>\n",
       "      <td>0.000000</td>\n",
       "      <td>0.000000</td>\n",
       "      <td>1.000000</td>\n",
       "      <td>0.000000</td>\n",
       "      <td>1951-01-02 00:00:00</td>\n",
       "      <td>2006-01-09 00:00:00</td>\n",
       "      <td>2011-07-14 00:00:00</td>\n",
       "    </tr>\n",
       "    <tr>\n",
       "      <th>25%</th>\n",
       "      <td>101269.000000</td>\n",
       "      <td>3.000000</td>\n",
       "      <td>3.000000</td>\n",
       "      <td>0.000000</td>\n",
       "      <td>0.000000</td>\n",
       "      <td>5.000000</td>\n",
       "      <td>0.000000</td>\n",
       "      <td>1973-12-03 00:00:00</td>\n",
       "      <td>2011-07-11 00:00:00</td>\n",
       "      <td>2017-05-03 12:00:00</td>\n",
       "    </tr>\n",
       "    <tr>\n",
       "      <th>50%</th>\n",
       "      <td>106069.000000</td>\n",
       "      <td>3.000000</td>\n",
       "      <td>4.000000</td>\n",
       "      <td>0.000000</td>\n",
       "      <td>0.000000</td>\n",
       "      <td>10.000000</td>\n",
       "      <td>1.000000</td>\n",
       "      <td>1980-09-30 00:00:00</td>\n",
       "      <td>2013-04-01 00:00:00</td>\n",
       "      <td>2020-01-16 00:00:00</td>\n",
       "    </tr>\n",
       "    <tr>\n",
       "      <th>75%</th>\n",
       "      <td>110514.500000</td>\n",
       "      <td>4.000000</td>\n",
       "      <td>5.000000</td>\n",
       "      <td>0.000000</td>\n",
       "      <td>0.000000</td>\n",
       "      <td>15.000000</td>\n",
       "      <td>1.000000</td>\n",
       "      <td>1986-05-31 00:00:00</td>\n",
       "      <td>2014-08-18 00:00:00</td>\n",
       "      <td>2020-02-04 00:00:00</td>\n",
       "    </tr>\n",
       "    <tr>\n",
       "      <th>max</th>\n",
       "      <td>111703.000000</td>\n",
       "      <td>5.000000</td>\n",
       "      <td>5.000000</td>\n",
       "      <td>8.000000</td>\n",
       "      <td>6.000000</td>\n",
       "      <td>55.000000</td>\n",
       "      <td>1.000000</td>\n",
       "      <td>1992-08-17 00:00:00</td>\n",
       "      <td>2018-07-09 00:00:00</td>\n",
       "      <td>2020-02-28 00:00:00</td>\n",
       "    </tr>\n",
       "    <tr>\n",
       "      <th>std</th>\n",
       "      <td>4044.977599</td>\n",
       "      <td>0.836388</td>\n",
       "      <td>0.913355</td>\n",
       "      <td>2.294441</td>\n",
       "      <td>1.275016</td>\n",
       "      <td>6.902252</td>\n",
       "      <td>0.508548</td>\n",
       "      <td>NaN</td>\n",
       "      <td>NaN</td>\n",
       "      <td>NaN</td>\n",
       "    </tr>\n",
       "  </tbody>\n",
       "</table>\n",
       "</div>"
      ],
      "text/plain": [
       "        EnterpriseID  SkorSurveyEngagement  SkorKepuasanPegawai  \\\n",
       "count     287.000000            287.000000           282.000000   \n",
       "mean   105923.324042              3.101045             3.904255   \n",
       "min    100282.000000              1.000000             1.000000   \n",
       "25%    101269.000000              3.000000             3.000000   \n",
       "50%    106069.000000              3.000000             4.000000   \n",
       "75%    110514.500000              4.000000             5.000000   \n",
       "max    111703.000000              5.000000             5.000000   \n",
       "std      4044.977599              0.836388             0.913355   \n",
       "\n",
       "       JumlahKeikutsertaanProjek  JumlahKeterlambatanSebulanTerakhir  \\\n",
       "count                 284.000000                          286.000000   \n",
       "mean                    1.179577                            0.412587   \n",
       "min                     0.000000                            0.000000   \n",
       "25%                     0.000000                            0.000000   \n",
       "50%                     0.000000                            0.000000   \n",
       "75%                     0.000000                            0.000000   \n",
       "max                     8.000000                            6.000000   \n",
       "std                     2.294441                            1.275016   \n",
       "\n",
       "       JumlahKetidakhadiran  IkutProgramLOP                   TanggalLahir  \\\n",
       "count            281.000000       29.000000                            287   \n",
       "mean              10.448399        0.517241  1979-02-14 01:15:15.679442496   \n",
       "min                1.000000        0.000000            1951-01-02 00:00:00   \n",
       "25%                5.000000        0.000000            1973-12-03 00:00:00   \n",
       "50%               10.000000        1.000000            1980-09-30 00:00:00   \n",
       "75%               15.000000        1.000000            1986-05-31 00:00:00   \n",
       "max               55.000000        1.000000            1992-08-17 00:00:00   \n",
       "std                6.902252        0.508548                            NaN   \n",
       "\n",
       "                       TanggalHiring       TanggalPenilaianKaryawan  \n",
       "count                            287                            287  \n",
       "mean   2013-02-04 23:14:50.592334592  2018-09-29 18:48:55.191637504  \n",
       "min              2006-01-09 00:00:00            2011-07-14 00:00:00  \n",
       "25%              2011-07-11 00:00:00            2017-05-03 12:00:00  \n",
       "50%              2013-04-01 00:00:00            2020-01-16 00:00:00  \n",
       "75%              2014-08-18 00:00:00            2020-02-04 00:00:00  \n",
       "max              2018-07-09 00:00:00            2020-02-28 00:00:00  \n",
       "std                              NaN                            NaN  "
      ]
     },
     "execution_count": 9,
     "metadata": {},
     "output_type": "execute_result"
    }
   ],
   "source": [
    "df.describe()"
   ]
  },
  {
   "cell_type": "code",
   "execution_count": 10,
   "id": "d6288c51-f6ae-4b63-a8cb-ce7d4aa95768",
   "metadata": {
    "tags": []
   },
   "outputs": [
    {
     "data": {
      "text/html": [
       "<div>\n",
       "<style scoped>\n",
       "    .dataframe tbody tr th:only-of-type {\n",
       "        vertical-align: middle;\n",
       "    }\n",
       "\n",
       "    .dataframe tbody tr th {\n",
       "        vertical-align: top;\n",
       "    }\n",
       "\n",
       "    .dataframe thead th {\n",
       "        text-align: right;\n",
       "    }\n",
       "</style>\n",
       "<table border=\"1\" class=\"dataframe\">\n",
       "  <thead>\n",
       "    <tr style=\"text-align: right;\">\n",
       "      <th></th>\n",
       "      <th>Username</th>\n",
       "      <th>EnterpriseID</th>\n",
       "      <th>StatusPernikahan</th>\n",
       "      <th>JenisKelamin</th>\n",
       "      <th>StatusKepegawaian</th>\n",
       "      <th>Pekerjaan</th>\n",
       "      <th>JenjangKarir</th>\n",
       "      <th>PerformancePegawai</th>\n",
       "      <th>AsalDaerah</th>\n",
       "      <th>HiringPlatform</th>\n",
       "      <th>...</th>\n",
       "      <th>NomorHP</th>\n",
       "      <th>Email</th>\n",
       "      <th>TingkatPendidikan</th>\n",
       "      <th>PernahBekerja</th>\n",
       "      <th>IkutProgramLOP</th>\n",
       "      <th>AlasanResign</th>\n",
       "      <th>TanggalLahir</th>\n",
       "      <th>TanggalHiring</th>\n",
       "      <th>TanggalPenilaianKaryawan</th>\n",
       "      <th>TanggalResign</th>\n",
       "    </tr>\n",
       "  </thead>\n",
       "  <tbody>\n",
       "  </tbody>\n",
       "</table>\n",
       "<p>0 rows × 25 columns</p>\n",
       "</div>"
      ],
      "text/plain": [
       "Empty DataFrame\n",
       "Columns: [Username, EnterpriseID, StatusPernikahan, JenisKelamin, StatusKepegawaian, Pekerjaan, JenjangKarir, PerformancePegawai, AsalDaerah, HiringPlatform, SkorSurveyEngagement, SkorKepuasanPegawai, JumlahKeikutsertaanProjek, JumlahKeterlambatanSebulanTerakhir, JumlahKetidakhadiran, NomorHP, Email, TingkatPendidikan, PernahBekerja, IkutProgramLOP, AlasanResign, TanggalLahir, TanggalHiring, TanggalPenilaianKaryawan, TanggalResign]\n",
       "Index: []\n",
       "\n",
       "[0 rows x 25 columns]"
      ]
     },
     "execution_count": 10,
     "metadata": {},
     "output_type": "execute_result"
    }
   ],
   "source": [
    "# Check Duplicate Value\n",
    "df[df.duplicated()]"
   ]
  },
  {
   "cell_type": "markdown",
   "id": "e34472a1",
   "metadata": {},
   "source": [
    "There is no duplicate data in this dataset"
   ]
  },
  {
   "cell_type": "code",
   "execution_count": 11,
   "id": "7c41a1aa-fdd0-4f0e-bcec-5e2e9e983e91",
   "metadata": {
    "tags": []
   },
   "outputs": [
    {
     "data": {
      "text/plain": [
       "Username                                0\n",
       "EnterpriseID                            0\n",
       "StatusPernikahan                        0\n",
       "JenisKelamin                            0\n",
       "StatusKepegawaian                       0\n",
       "Pekerjaan                               0\n",
       "JenjangKarir                            0\n",
       "PerformancePegawai                      0\n",
       "AsalDaerah                              0\n",
       "HiringPlatform                          0\n",
       "SkorSurveyEngagement                    0\n",
       "SkorKepuasanPegawai                     5\n",
       "JumlahKeikutsertaanProjek               3\n",
       "JumlahKeterlambatanSebulanTerakhir      1\n",
       "JumlahKetidakhadiran                    6\n",
       "NomorHP                                 0\n",
       "Email                                   0\n",
       "TingkatPendidikan                       0\n",
       "PernahBekerja                           0\n",
       "IkutProgramLOP                        258\n",
       "AlasanResign                           66\n",
       "TanggalLahir                            0\n",
       "TanggalHiring                           0\n",
       "TanggalPenilaianKaryawan                0\n",
       "TanggalResign                           0\n",
       "dtype: int64"
      ]
     },
     "execution_count": 11,
     "metadata": {},
     "output_type": "execute_result"
    }
   ],
   "source": [
    "# Check Missing Value\n",
    "df.isnull().sum()"
   ]
  },
  {
   "cell_type": "markdown",
   "id": "cffae3e1-86e4-4e55-9450-d29af7a8f6f9",
   "metadata": {},
   "source": [
    "Missing values can be seen on several columns; \n",
    "- 'SkorKepuasanPegawai' has minimal missing values (5) and the overall data distribution is near normal, hence, the missing values will be filled with median as it is more robust.\n",
    "- 'JumlahKeikutsertaanProjek', 'JumlahKeterlambatanSebulanTerakhir' and 'JumlahKetidakhadiran' also have minimal missing values, (3), (1) and (6), respectively. Median will be used to fill in missing values.\n",
    "- 'AlasanResign'= In this columns, there are 66 missing values, which may implies to the employees that are still working in the company. The missing value (66) added up with the 'masih_bekerja' value (132), equal to 198 which is in line with the column 'TanggalResign' that has '-' values. Hence, the missing value will be filled with 'masih_bekerja'\n",
    "- 'IkutProgramLOP' has the most missing values, almost 90% of its data. Hence, the missing value will be replaced with unknown value. \n",
    "- In column 'StatusPernikahan', there is 3 '-' values which will be replaced with the column's mode. "
   ]
  },
  {
   "cell_type": "code",
   "execution_count": 12,
   "id": "4d32159d-6b62-49f4-8fd1-0d8099f459e6",
   "metadata": {
    "tags": []
   },
   "outputs": [],
   "source": [
    "df['StatusPernikahan'] = df['StatusPernikahan'].replace('-',df['StatusPernikahan'].mode().iloc[0])\n",
    "df['AlasanResign'] = df['AlasanResign'].fillna(df['AlasanResign'].mode().iloc[0])\n",
    "df['SkorKepuasanPegawai'] = df['SkorKepuasanPegawai'].fillna(df['SkorKepuasanPegawai'].median())\n",
    "df['JumlahKeikutsertaanProjek'] = df['JumlahKeikutsertaanProjek'].fillna(df['JumlahKeikutsertaanProjek'].median())\n",
    "df['JumlahKeterlambatanSebulanTerakhir'] = df['JumlahKeterlambatanSebulanTerakhir'].fillna(df['JumlahKeterlambatanSebulanTerakhir'].median())\n",
    "df['JumlahKetidakhadiran'] = df['JumlahKetidakhadiran'].fillna(df['JumlahKetidakhadiran'].median())\n",
    "df['IkutProgramLOP'] = df['IkutProgramLOP'].fillna('Unknown')"
   ]
  },
  {
   "cell_type": "code",
   "execution_count": 13,
   "id": "9bd80e5c-7e28-41eb-b368-42489a66f255",
   "metadata": {
    "tags": []
   },
   "outputs": [
    {
     "data": {
      "text/plain": [
       "PernahBekerja\n",
       "1      286\n",
       "yes      1\n",
       "Name: count, dtype: int64"
      ]
     },
     "execution_count": 13,
     "metadata": {},
     "output_type": "execute_result"
    }
   ],
   "source": [
    "df.PernahBekerja.value_counts()"
   ]
  },
  {
   "cell_type": "code",
   "execution_count": 14,
   "id": "f44e6060-163c-4ce1-bb4b-cf2c21a060d0",
   "metadata": {
    "tags": []
   },
   "outputs": [],
   "source": [
    "# drop column PernahBekerja as it has only one unique value\n",
    "df = df.drop(columns='PernahBekerja')"
   ]
  },
  {
   "cell_type": "code",
   "execution_count": 15,
   "id": "2893bd4e",
   "metadata": {},
   "outputs": [],
   "source": [
    "df['TanggalResign'] = df['TanggalResign'].replace('-', pd.NA)\n",
    "df['TanggalResign'] = pd.to_datetime(df['TanggalResign'])"
   ]
  },
  {
   "cell_type": "code",
   "execution_count": 16,
   "id": "586c2d9b",
   "metadata": {},
   "outputs": [],
   "source": [
    "df['Year_Hiring'] = df['TanggalHiring'].dt.year\n",
    "df['Year_Resign'] = df['TanggalResign'].dt.year"
   ]
  },
  {
   "cell_type": "code",
   "execution_count": 17,
   "id": "55d0fdb3",
   "metadata": {},
   "outputs": [
    {
     "name": "stdout",
     "output_type": "stream",
     "text": [
      "    Year_Hiring   0\n",
      "0          2006   1\n",
      "1          2007   2\n",
      "2          2008   2\n",
      "3          2009   7\n",
      "4          2010   8\n",
      "5          2011  76\n",
      "6          2012  41\n",
      "7          2013  43\n",
      "8          2014  56\n",
      "9          2015  31\n",
      "10         2016  14\n",
      "11         2017   5\n",
      "12         2018   1\n",
      "   Year_Resign   0\n",
      "0       2013.0   5\n",
      "1       2014.0  12\n",
      "2       2015.0   8\n",
      "3       2016.0   8\n",
      "4       2017.0  19\n",
      "5       2018.0  26\n",
      "6       2019.0   5\n",
      "7       2020.0   6\n"
     ]
    }
   ],
   "source": [
    "Hired = df.groupby('Year_Hiring').size().reset_index()\n",
    "Resigned = df.groupby('Year_Resign').size().reset_index()\n",
    "print(Hired)\n",
    "print(Resigned)"
   ]
  },
  {
   "cell_type": "code",
   "execution_count": 18,
   "id": "69f3549b",
   "metadata": {},
   "outputs": [
    {
     "data": {
      "text/html": [
       "<div>\n",
       "<style scoped>\n",
       "    .dataframe tbody tr th:only-of-type {\n",
       "        vertical-align: middle;\n",
       "    }\n",
       "\n",
       "    .dataframe tbody tr th {\n",
       "        vertical-align: top;\n",
       "    }\n",
       "\n",
       "    .dataframe thead th {\n",
       "        text-align: right;\n",
       "    }\n",
       "</style>\n",
       "<table border=\"1\" class=\"dataframe\">\n",
       "  <thead>\n",
       "    <tr style=\"text-align: right;\">\n",
       "      <th></th>\n",
       "      <th>Year</th>\n",
       "      <th>Number_Hired</th>\n",
       "      <th>Number_Resigned</th>\n",
       "      <th>Total_Employee</th>\n",
       "      <th>Changes</th>\n",
       "    </tr>\n",
       "  </thead>\n",
       "  <tbody>\n",
       "    <tr>\n",
       "      <th>0</th>\n",
       "      <td>2006.0</td>\n",
       "      <td>1.0</td>\n",
       "      <td>0.0</td>\n",
       "      <td>1.0</td>\n",
       "      <td>1.0</td>\n",
       "    </tr>\n",
       "    <tr>\n",
       "      <th>1</th>\n",
       "      <td>2007.0</td>\n",
       "      <td>2.0</td>\n",
       "      <td>0.0</td>\n",
       "      <td>3.0</td>\n",
       "      <td>2.0</td>\n",
       "    </tr>\n",
       "    <tr>\n",
       "      <th>2</th>\n",
       "      <td>2008.0</td>\n",
       "      <td>2.0</td>\n",
       "      <td>0.0</td>\n",
       "      <td>5.0</td>\n",
       "      <td>2.0</td>\n",
       "    </tr>\n",
       "    <tr>\n",
       "      <th>3</th>\n",
       "      <td>2009.0</td>\n",
       "      <td>7.0</td>\n",
       "      <td>0.0</td>\n",
       "      <td>12.0</td>\n",
       "      <td>7.0</td>\n",
       "    </tr>\n",
       "    <tr>\n",
       "      <th>4</th>\n",
       "      <td>2010.0</td>\n",
       "      <td>8.0</td>\n",
       "      <td>0.0</td>\n",
       "      <td>20.0</td>\n",
       "      <td>8.0</td>\n",
       "    </tr>\n",
       "    <tr>\n",
       "      <th>5</th>\n",
       "      <td>2011.0</td>\n",
       "      <td>76.0</td>\n",
       "      <td>0.0</td>\n",
       "      <td>96.0</td>\n",
       "      <td>76.0</td>\n",
       "    </tr>\n",
       "    <tr>\n",
       "      <th>6</th>\n",
       "      <td>2012.0</td>\n",
       "      <td>41.0</td>\n",
       "      <td>0.0</td>\n",
       "      <td>137.0</td>\n",
       "      <td>41.0</td>\n",
       "    </tr>\n",
       "    <tr>\n",
       "      <th>7</th>\n",
       "      <td>2013.0</td>\n",
       "      <td>43.0</td>\n",
       "      <td>5.0</td>\n",
       "      <td>175.0</td>\n",
       "      <td>38.0</td>\n",
       "    </tr>\n",
       "    <tr>\n",
       "      <th>8</th>\n",
       "      <td>2014.0</td>\n",
       "      <td>56.0</td>\n",
       "      <td>12.0</td>\n",
       "      <td>219.0</td>\n",
       "      <td>44.0</td>\n",
       "    </tr>\n",
       "    <tr>\n",
       "      <th>9</th>\n",
       "      <td>2015.0</td>\n",
       "      <td>31.0</td>\n",
       "      <td>8.0</td>\n",
       "      <td>242.0</td>\n",
       "      <td>23.0</td>\n",
       "    </tr>\n",
       "    <tr>\n",
       "      <th>10</th>\n",
       "      <td>2016.0</td>\n",
       "      <td>14.0</td>\n",
       "      <td>8.0</td>\n",
       "      <td>248.0</td>\n",
       "      <td>6.0</td>\n",
       "    </tr>\n",
       "    <tr>\n",
       "      <th>11</th>\n",
       "      <td>2017.0</td>\n",
       "      <td>5.0</td>\n",
       "      <td>19.0</td>\n",
       "      <td>234.0</td>\n",
       "      <td>-14.0</td>\n",
       "    </tr>\n",
       "    <tr>\n",
       "      <th>12</th>\n",
       "      <td>2018.0</td>\n",
       "      <td>1.0</td>\n",
       "      <td>26.0</td>\n",
       "      <td>209.0</td>\n",
       "      <td>-25.0</td>\n",
       "    </tr>\n",
       "    <tr>\n",
       "      <th>13</th>\n",
       "      <td>2019.0</td>\n",
       "      <td>0.0</td>\n",
       "      <td>5.0</td>\n",
       "      <td>204.0</td>\n",
       "      <td>-5.0</td>\n",
       "    </tr>\n",
       "    <tr>\n",
       "      <th>14</th>\n",
       "      <td>2020.0</td>\n",
       "      <td>0.0</td>\n",
       "      <td>6.0</td>\n",
       "      <td>198.0</td>\n",
       "      <td>-6.0</td>\n",
       "    </tr>\n",
       "  </tbody>\n",
       "</table>\n",
       "</div>"
      ],
      "text/plain": [
       "      Year  Number_Hired  Number_Resigned  Total_Employee  Changes\n",
       "0   2006.0           1.0              0.0             1.0      1.0\n",
       "1   2007.0           2.0              0.0             3.0      2.0\n",
       "2   2008.0           2.0              0.0             5.0      2.0\n",
       "3   2009.0           7.0              0.0            12.0      7.0\n",
       "4   2010.0           8.0              0.0            20.0      8.0\n",
       "5   2011.0          76.0              0.0            96.0     76.0\n",
       "6   2012.0          41.0              0.0           137.0     41.0\n",
       "7   2013.0          43.0              5.0           175.0     38.0\n",
       "8   2014.0          56.0             12.0           219.0     44.0\n",
       "9   2015.0          31.0              8.0           242.0     23.0\n",
       "10  2016.0          14.0              8.0           248.0      6.0\n",
       "11  2017.0           5.0             19.0           234.0    -14.0\n",
       "12  2018.0           1.0             26.0           209.0    -25.0\n",
       "13  2019.0           0.0              5.0           204.0     -5.0\n",
       "14  2020.0           0.0              6.0           198.0     -6.0"
      ]
     },
     "execution_count": 18,
     "metadata": {},
     "output_type": "execute_result"
    }
   ],
   "source": [
    "# Rename Columns\n",
    "Hired = Hired.rename(columns={'Year_Hiring': 'Year'})\n",
    "Resigned = Resigned.rename(columns={'Year_Resign': 'Year'})\n",
    "\n",
    "# Merge Hired and Resigned \n",
    "HiredResigned = pd.merge(Hired, Resigned, left_on='Year', right_on='Year', how='outer')\n",
    "HiredResigned = HiredResigned.fillna(0)\n",
    "HiredResigned = HiredResigned.rename(columns={'0_x': 'Number_Hired', '0_y': 'Number_Resigned'})\n",
    "\n",
    "# Calculate Total Number of Employee every year\n",
    "HiredResigned['Total_Employee'] = HiredResigned['Number_Hired'].cumsum() - HiredResigned['Number_Resigned'].cumsum()\n",
    "HiredResigned['Changes'] = HiredResigned['Number_Hired'] - HiredResigned['Number_Resigned']\n",
    "HiredResigned"
   ]
  },
  {
   "cell_type": "code",
   "execution_count": 19,
   "id": "9997f3e7",
   "metadata": {},
   "outputs": [
    {
     "data": {
      "image/png": "[encoded data removed]",
      "text/plain": [
       "<Figure size 640x480 with 1 Axes>"
      ]
     },
     "metadata": {},
     "output_type": "display_data"
    }
   ],
   "source": [
    "import waterfall_chart\n",
    "%matplotlib inline\n",
    "\n",
    "a = HiredResigned['Year']\n",
    "b = HiredResigned['Changes']\n",
    "waterfall_chart.plot(a, b, net_label='Total')\n",
    "plt.xlabel('Year')\n",
    "plt.ylim(0,300)\n",
    "plt.ylabel('Number of Employee')\n",
    "plt.title('Changes in Total Employee Every Year')\n",
    "plt.show()\n"
   ]
  },
  {
   "cell_type": "markdown",
   "id": "a72eef37",
   "metadata": {},
   "source": [
    "Analysis Results:\n",
    "- The plot shows an overall increasing trend of the number of total employees from 2006 to 2020. This suggests that the company has been growing and expanding its workforce. \n",
    "- The total number of employees is experiencing a sharp increase in 2011 and its constantly increasing until 2016.\n",
    "- Despite a period of stability, the company experienced a steep decline in its workforce in 2017 and 2018, indicating a substantial number of employees resigned. While the decline continued until 2020, the rate of attrition slowed down in the latter years.  \n",
    "\n",
    "Insights:\n",
    "- The initial growth suggests effective recruitment, but the decline indicates potential issues with employee retention. \n",
    "- The downward trends in the waterfall chart represent employee turnover. Investigating the specific years with the steepest declines (2017 & 2018) can help identify factors contributing to high attrition rates. External and internal factors may affects employee turnover, hence, further analysis is needed on these years. \n",
    "\n"
   ]
  },
  {
   "cell_type": "markdown",
   "id": "a05bf69a",
   "metadata": {},
   "source": []
  },
  {
   "cell_type": "code",
   "execution_count": 20,
   "id": "75a3b6b9",
   "metadata": {},
   "outputs": [
    {
     "data": {
      "text/html": [
       "<div>\n",
       "<style scoped>\n",
       "    .dataframe tbody tr th:only-of-type {\n",
       "        vertical-align: middle;\n",
       "    }\n",
       "\n",
       "    .dataframe tbody tr th {\n",
       "        vertical-align: top;\n",
       "    }\n",
       "\n",
       "    .dataframe thead th {\n",
       "        text-align: right;\n",
       "    }\n",
       "</style>\n",
       "<table border=\"1\" class=\"dataframe\">\n",
       "  <thead>\n",
       "    <tr style=\"text-align: right;\">\n",
       "      <th></th>\n",
       "      <th>Username</th>\n",
       "      <th>EnterpriseID</th>\n",
       "      <th>StatusPernikahan</th>\n",
       "      <th>JenisKelamin</th>\n",
       "      <th>StatusKepegawaian</th>\n",
       "      <th>Pekerjaan</th>\n",
       "      <th>JenjangKarir</th>\n",
       "      <th>PerformancePegawai</th>\n",
       "      <th>AsalDaerah</th>\n",
       "      <th>HiringPlatform</th>\n",
       "      <th>...</th>\n",
       "      <th>Email</th>\n",
       "      <th>TingkatPendidikan</th>\n",
       "      <th>IkutProgramLOP</th>\n",
       "      <th>AlasanResign</th>\n",
       "      <th>TanggalLahir</th>\n",
       "      <th>TanggalHiring</th>\n",
       "      <th>TanggalPenilaianKaryawan</th>\n",
       "      <th>TanggalResign</th>\n",
       "      <th>Year_Hiring</th>\n",
       "      <th>Year_Resign</th>\n",
       "    </tr>\n",
       "  </thead>\n",
       "  <tbody>\n",
       "    <tr>\n",
       "      <th>0</th>\n",
       "      <td>spiritedPorpoise3</td>\n",
       "      <td>111065</td>\n",
       "      <td>Belum_menikah</td>\n",
       "      <td>Pria</td>\n",
       "      <td>Outsource</td>\n",
       "      <td>Software Engineer (Back End)</td>\n",
       "      <td>Freshgraduate_program</td>\n",
       "      <td>Sangat_bagus</td>\n",
       "      <td>Jakarta Timur</td>\n",
       "      <td>Employee_Referral</td>\n",
       "      <td>...</td>\n",
       "      <td>spiritedPorpoise3135@yahoo.com</td>\n",
       "      <td>Magister</td>\n",
       "      <td>1.0</td>\n",
       "      <td>masih_bekerja</td>\n",
       "      <td>1972-07-01</td>\n",
       "      <td>2011-01-10</td>\n",
       "      <td>2016-02-15</td>\n",
       "      <td>NaT</td>\n",
       "      <td>2011</td>\n",
       "      <td>NaN</td>\n",
       "    </tr>\n",
       "    <tr>\n",
       "      <th>1</th>\n",
       "      <td>jealousGelding2</td>\n",
       "      <td>106080</td>\n",
       "      <td>Belum_menikah</td>\n",
       "      <td>Pria</td>\n",
       "      <td>FullTime</td>\n",
       "      <td>Data Analyst</td>\n",
       "      <td>Freshgraduate_program</td>\n",
       "      <td>Sangat_kurang</td>\n",
       "      <td>Jakarta Utara</td>\n",
       "      <td>Website</td>\n",
       "      <td>...</td>\n",
       "      <td>jealousGelding2239@yahoo.com</td>\n",
       "      <td>Sarjana</td>\n",
       "      <td>1.0</td>\n",
       "      <td>toxic_culture</td>\n",
       "      <td>1984-04-26</td>\n",
       "      <td>2014-01-06</td>\n",
       "      <td>2020-01-17</td>\n",
       "      <td>2018-06-16</td>\n",
       "      <td>2014</td>\n",
       "      <td>2018.0</td>\n",
       "    </tr>\n",
       "    <tr>\n",
       "      <th>2</th>\n",
       "      <td>pluckyMuesli3</td>\n",
       "      <td>106452</td>\n",
       "      <td>Menikah</td>\n",
       "      <td>Pria</td>\n",
       "      <td>FullTime</td>\n",
       "      <td>Software Engineer (Front End)</td>\n",
       "      <td>Freshgraduate_program</td>\n",
       "      <td>Bagus</td>\n",
       "      <td>Jakarta Timur</td>\n",
       "      <td>Indeed</td>\n",
       "      <td>...</td>\n",
       "      <td>pluckyMuesli3961@icloud.com</td>\n",
       "      <td>Magister</td>\n",
       "      <td>1.0</td>\n",
       "      <td>jam_kerja</td>\n",
       "      <td>1974-01-07</td>\n",
       "      <td>2011-01-10</td>\n",
       "      <td>2016-01-10</td>\n",
       "      <td>2014-09-24</td>\n",
       "      <td>2011</td>\n",
       "      <td>2014.0</td>\n",
       "    </tr>\n",
       "    <tr>\n",
       "      <th>3</th>\n",
       "      <td>stressedTruffle1</td>\n",
       "      <td>106325</td>\n",
       "      <td>Belum_menikah</td>\n",
       "      <td>Pria</td>\n",
       "      <td>Outsource</td>\n",
       "      <td>Software Engineer (Front End)</td>\n",
       "      <td>Freshgraduate_program</td>\n",
       "      <td>Bagus</td>\n",
       "      <td>Jakarta Pusat</td>\n",
       "      <td>LinkedIn</td>\n",
       "      <td>...</td>\n",
       "      <td>stressedTruffle1406@hotmail.com</td>\n",
       "      <td>Sarjana</td>\n",
       "      <td>0.0</td>\n",
       "      <td>masih_bekerja</td>\n",
       "      <td>1979-11-24</td>\n",
       "      <td>2014-02-17</td>\n",
       "      <td>2020-02-04</td>\n",
       "      <td>NaT</td>\n",
       "      <td>2014</td>\n",
       "      <td>NaN</td>\n",
       "    </tr>\n",
       "    <tr>\n",
       "      <th>4</th>\n",
       "      <td>shyTermite7</td>\n",
       "      <td>111171</td>\n",
       "      <td>Belum_menikah</td>\n",
       "      <td>Wanita</td>\n",
       "      <td>FullTime</td>\n",
       "      <td>Product Manager</td>\n",
       "      <td>Freshgraduate_program</td>\n",
       "      <td>Bagus</td>\n",
       "      <td>Jakarta Timur</td>\n",
       "      <td>LinkedIn</td>\n",
       "      <td>...</td>\n",
       "      <td>shyTermite7149@gmail.com</td>\n",
       "      <td>Sarjana</td>\n",
       "      <td>0.0</td>\n",
       "      <td>ganti_karir</td>\n",
       "      <td>1974-11-07</td>\n",
       "      <td>2013-11-11</td>\n",
       "      <td>2020-01-22</td>\n",
       "      <td>2018-09-06</td>\n",
       "      <td>2013</td>\n",
       "      <td>2018.0</td>\n",
       "    </tr>\n",
       "  </tbody>\n",
       "</table>\n",
       "<p>5 rows × 26 columns</p>\n",
       "</div>"
      ],
      "text/plain": [
       "            Username  EnterpriseID StatusPernikahan JenisKelamin  \\\n",
       "0  spiritedPorpoise3        111065    Belum_menikah         Pria   \n",
       "1    jealousGelding2        106080    Belum_menikah         Pria   \n",
       "2      pluckyMuesli3        106452          Menikah         Pria   \n",
       "3   stressedTruffle1        106325    Belum_menikah         Pria   \n",
       "4        shyTermite7        111171    Belum_menikah       Wanita   \n",
       "\n",
       "  StatusKepegawaian                      Pekerjaan           JenjangKarir  \\\n",
       "0         Outsource   Software Engineer (Back End)  Freshgraduate_program   \n",
       "1          FullTime                   Data Analyst  Freshgraduate_program   \n",
       "2          FullTime  Software Engineer (Front End)  Freshgraduate_program   \n",
       "3         Outsource  Software Engineer (Front End)  Freshgraduate_program   \n",
       "4          FullTime                Product Manager  Freshgraduate_program   \n",
       "\n",
       "  PerformancePegawai     AsalDaerah     HiringPlatform  ...  \\\n",
       "0       Sangat_bagus  Jakarta Timur  Employee_Referral  ...   \n",
       "1      Sangat_kurang  Jakarta Utara            Website  ...   \n",
       "2              Bagus  Jakarta Timur             Indeed  ...   \n",
       "3              Bagus  Jakarta Pusat           LinkedIn  ...   \n",
       "4              Bagus  Jakarta Timur           LinkedIn  ...   \n",
       "\n",
       "                             Email  TingkatPendidikan  IkutProgramLOP  \\\n",
       "0   spiritedPorpoise3135@yahoo.com           Magister             1.0   \n",
       "1     jealousGelding2239@yahoo.com            Sarjana             1.0   \n",
       "2      pluckyMuesli3961@icloud.com           Magister             1.0   \n",
       "3  stressedTruffle1406@hotmail.com            Sarjana             0.0   \n",
       "4         shyTermite7149@gmail.com            Sarjana             0.0   \n",
       "\n",
       "    AlasanResign  TanggalLahir TanggalHiring TanggalPenilaianKaryawan  \\\n",
       "0  masih_bekerja    1972-07-01    2011-01-10               2016-02-15   \n",
       "1  toxic_culture    1984-04-26    2014-01-06               2020-01-17   \n",
       "2      jam_kerja    1974-01-07    2011-01-10               2016-01-10   \n",
       "3  masih_bekerja    1979-11-24    2014-02-17               2020-02-04   \n",
       "4    ganti_karir    1974-11-07    2013-11-11               2020-01-22   \n",
       "\n",
       "  TanggalResign Year_Hiring Year_Resign  \n",
       "0           NaT        2011         NaN  \n",
       "1    2018-06-16        2014      2018.0  \n",
       "2    2014-09-24        2011      2014.0  \n",
       "3           NaT        2014         NaN  \n",
       "4    2018-09-06        2013      2018.0  \n",
       "\n",
       "[5 rows x 26 columns]"
      ]
     },
     "execution_count": 20,
     "metadata": {},
     "output_type": "execute_result"
    }
   ],
   "source": [
    "df.head()"
   ]
  },
  {
   "cell_type": "code",
   "execution_count": 21,
   "id": "449db4ed",
   "metadata": {},
   "outputs": [],
   "source": [
    "# Create data frame for employees who are already resigned and still active\n",
    "Resign_no = df[df['Year_Resign'].isnull()]\n",
    "Resign_yes = df[df['Year_Resign'].notnull()]"
   ]
  },
  {
   "cell_type": "code",
   "execution_count": 24,
   "id": "f37a1ff3",
   "metadata": {},
   "outputs": [
    {
     "name": "stdout",
     "output_type": "stream",
     "text": [
      "Job position for Resigned Employees                        Pekerjaan  Count\n",
      "0                   Data Analyst      8\n",
      "1                  Data Engineer      3\n",
      "2       Product Design (UI & UX)      9\n",
      "3                Product Manager      6\n",
      "4    Software Engineer (Android)      7\n",
      "5   Software Engineer (Back End)     28\n",
      "6  Software Engineer (Front End)     28\n",
      "----------------------------------------------------------------------------------------------------\n",
      "Job position for Active Employees                          Pekerjaan  Count\n",
      "0                     Data Analyst      8\n",
      "1                    Data Engineer      7\n",
      "2                  DevOps Engineer      3\n",
      "3          Digital Product Manager      2\n",
      "4        Machine Learning Engineer      2\n",
      "5         Product Design (UI & UX)     15\n",
      "6   Product Design (UX Researcher)      1\n",
      "7                  Product Manager     11\n",
      "8                     Scrum Master      3\n",
      "9               Software Architect      1\n",
      "10     Software Engineer (Android)     17\n",
      "11    Software Engineer (Back End)     81\n",
      "12   Software Engineer (Front End)     44\n",
      "13         Software Engineer (iOS)      3\n"
     ]
    }
   ],
   "source": [
    "# Aggregate the dataframe based on job position\n",
    "resign_yes_job = Resign_yes.groupby('Pekerjaan').size().reset_index(name='Count')\n",
    "resign_no_job = Resign_no.groupby('Pekerjaan').size().reset_index(name='Count')\n",
    "\n",
    "print('Job position for Resigned Employees', resign_yes_job)\n",
    "print(\"-\" * 100) \n",
    "print('Job position for Active Employees',resign_no_job)"
   ]
  },
  {
   "cell_type": "code",
   "execution_count": 25,
   "id": "186998f9",
   "metadata": {},
   "outputs": [
    {
     "data": {
      "text/html": [
       "<div>\n",
       "<style scoped>\n",
       "    .dataframe tbody tr th:only-of-type {\n",
       "        vertical-align: middle;\n",
       "    }\n",
       "\n",
       "    .dataframe tbody tr th {\n",
       "        vertical-align: top;\n",
       "    }\n",
       "\n",
       "    .dataframe thead th {\n",
       "        text-align: right;\n",
       "    }\n",
       "</style>\n",
       "<table border=\"1\" class=\"dataframe\">\n",
       "  <thead>\n",
       "    <tr style=\"text-align: right;\">\n",
       "      <th></th>\n",
       "      <th>Pekerjaan</th>\n",
       "      <th>Active_Employee</th>\n",
       "      <th>Resigned_Employee</th>\n",
       "      <th>total</th>\n",
       "      <th>active_percent</th>\n",
       "      <th>resign_percent</th>\n",
       "    </tr>\n",
       "  </thead>\n",
       "  <tbody>\n",
       "    <tr>\n",
       "      <th>0</th>\n",
       "      <td>Data Analyst</td>\n",
       "      <td>8</td>\n",
       "      <td>8.0</td>\n",
       "      <td>16.0</td>\n",
       "      <td>0.500000</td>\n",
       "      <td>0.500000</td>\n",
       "    </tr>\n",
       "    <tr>\n",
       "      <th>1</th>\n",
       "      <td>Data Engineer</td>\n",
       "      <td>7</td>\n",
       "      <td>3.0</td>\n",
       "      <td>10.0</td>\n",
       "      <td>0.700000</td>\n",
       "      <td>0.300000</td>\n",
       "    </tr>\n",
       "    <tr>\n",
       "      <th>2</th>\n",
       "      <td>DevOps Engineer</td>\n",
       "      <td>3</td>\n",
       "      <td>0.0</td>\n",
       "      <td>3.0</td>\n",
       "      <td>1.000000</td>\n",
       "      <td>0.000000</td>\n",
       "    </tr>\n",
       "    <tr>\n",
       "      <th>3</th>\n",
       "      <td>Digital Product Manager</td>\n",
       "      <td>2</td>\n",
       "      <td>0.0</td>\n",
       "      <td>2.0</td>\n",
       "      <td>1.000000</td>\n",
       "      <td>0.000000</td>\n",
       "    </tr>\n",
       "    <tr>\n",
       "      <th>4</th>\n",
       "      <td>Machine Learning Engineer</td>\n",
       "      <td>2</td>\n",
       "      <td>0.0</td>\n",
       "      <td>2.0</td>\n",
       "      <td>1.000000</td>\n",
       "      <td>0.000000</td>\n",
       "    </tr>\n",
       "    <tr>\n",
       "      <th>5</th>\n",
       "      <td>Product Design (UI &amp; UX)</td>\n",
       "      <td>15</td>\n",
       "      <td>9.0</td>\n",
       "      <td>24.0</td>\n",
       "      <td>0.625000</td>\n",
       "      <td>0.375000</td>\n",
       "    </tr>\n",
       "    <tr>\n",
       "      <th>6</th>\n",
       "      <td>Product Design (UX Researcher)</td>\n",
       "      <td>1</td>\n",
       "      <td>0.0</td>\n",
       "      <td>1.0</td>\n",
       "      <td>1.000000</td>\n",
       "      <td>0.000000</td>\n",
       "    </tr>\n",
       "    <tr>\n",
       "      <th>7</th>\n",
       "      <td>Product Manager</td>\n",
       "      <td>11</td>\n",
       "      <td>6.0</td>\n",
       "      <td>17.0</td>\n",
       "      <td>0.647059</td>\n",
       "      <td>0.352941</td>\n",
       "    </tr>\n",
       "    <tr>\n",
       "      <th>8</th>\n",
       "      <td>Scrum Master</td>\n",
       "      <td>3</td>\n",
       "      <td>0.0</td>\n",
       "      <td>3.0</td>\n",
       "      <td>1.000000</td>\n",
       "      <td>0.000000</td>\n",
       "    </tr>\n",
       "    <tr>\n",
       "      <th>9</th>\n",
       "      <td>Software Architect</td>\n",
       "      <td>1</td>\n",
       "      <td>0.0</td>\n",
       "      <td>1.0</td>\n",
       "      <td>1.000000</td>\n",
       "      <td>0.000000</td>\n",
       "    </tr>\n",
       "    <tr>\n",
       "      <th>10</th>\n",
       "      <td>Software Engineer (Android)</td>\n",
       "      <td>17</td>\n",
       "      <td>7.0</td>\n",
       "      <td>24.0</td>\n",
       "      <td>0.708333</td>\n",
       "      <td>0.291667</td>\n",
       "    </tr>\n",
       "    <tr>\n",
       "      <th>11</th>\n",
       "      <td>Software Engineer (Back End)</td>\n",
       "      <td>81</td>\n",
       "      <td>28.0</td>\n",
       "      <td>109.0</td>\n",
       "      <td>0.743119</td>\n",
       "      <td>0.256881</td>\n",
       "    </tr>\n",
       "    <tr>\n",
       "      <th>12</th>\n",
       "      <td>Software Engineer (Front End)</td>\n",
       "      <td>44</td>\n",
       "      <td>28.0</td>\n",
       "      <td>72.0</td>\n",
       "      <td>0.611111</td>\n",
       "      <td>0.388889</td>\n",
       "    </tr>\n",
       "    <tr>\n",
       "      <th>13</th>\n",
       "      <td>Software Engineer (iOS)</td>\n",
       "      <td>3</td>\n",
       "      <td>0.0</td>\n",
       "      <td>3.0</td>\n",
       "      <td>1.000000</td>\n",
       "      <td>0.000000</td>\n",
       "    </tr>\n",
       "  </tbody>\n",
       "</table>\n",
       "</div>"
      ],
      "text/plain": [
       "                         Pekerjaan  Active_Employee  Resigned_Employee  total  \\\n",
       "0                     Data Analyst                8                8.0   16.0   \n",
       "1                    Data Engineer                7                3.0   10.0   \n",
       "2                  DevOps Engineer                3                0.0    3.0   \n",
       "3          Digital Product Manager                2                0.0    2.0   \n",
       "4        Machine Learning Engineer                2                0.0    2.0   \n",
       "5         Product Design (UI & UX)               15                9.0   24.0   \n",
       "6   Product Design (UX Researcher)                1                0.0    1.0   \n",
       "7                  Product Manager               11                6.0   17.0   \n",
       "8                     Scrum Master                3                0.0    3.0   \n",
       "9               Software Architect                1                0.0    1.0   \n",
       "10     Software Engineer (Android)               17                7.0   24.0   \n",
       "11    Software Engineer (Back End)               81               28.0  109.0   \n",
       "12   Software Engineer (Front End)               44               28.0   72.0   \n",
       "13         Software Engineer (iOS)                3                0.0    3.0   \n",
       "\n",
       "    active_percent  resign_percent  \n",
       "0         0.500000        0.500000  \n",
       "1         0.700000        0.300000  \n",
       "2         1.000000        0.000000  \n",
       "3         1.000000        0.000000  \n",
       "4         1.000000        0.000000  \n",
       "5         0.625000        0.375000  \n",
       "6         1.000000        0.000000  \n",
       "7         0.647059        0.352941  \n",
       "8         1.000000        0.000000  \n",
       "9         1.000000        0.000000  \n",
       "10        0.708333        0.291667  \n",
       "11        0.743119        0.256881  \n",
       "12        0.611111        0.388889  \n",
       "13        1.000000        0.000000  "
      ]
     },
     "execution_count": 25,
     "metadata": {},
     "output_type": "execute_result"
    }
   ],
   "source": [
    "Pekerjaan_yes_no = pd.merge(resign_no_job, resign_yes_job, left_on='Pekerjaan', right_on='Pekerjaan', how='outer')\n",
    "Pekerjaan_yes_no = Pekerjaan_yes_no.fillna(0)\n",
    "Pekerjaan_yes_no = Pekerjaan_yes_no.rename(columns={'Count_x': 'Active_Employee', 'Count_y': 'Resigned_Employee'})\n",
    "Pekerjaan_yes_no['total'] = Pekerjaan_yes_no['Active_Employee'] + Pekerjaan_yes_no['Resigned_Employee']\n",
    "Pekerjaan_yes_no['active_percent'] = Pekerjaan_yes_no['Active_Employee']/Pekerjaan_yes_no['total']\n",
    "Pekerjaan_yes_no['resign_percent'] = Pekerjaan_yes_no['Resigned_Employee']/Pekerjaan_yes_no['total']\n",
    "Pekerjaan_yes_no"
   ]
  },
  {
   "cell_type": "code",
   "execution_count": 40,
   "id": "f4cebe5c",
   "metadata": {},
   "outputs": [
    {
     "data": {
      "application/vnd.plotly.v1+json": {
       "config": {
        "plotlyServerURL": "https://plot.ly"
       },
       "data": [
        {
         "branchvalues": "total",
         "customdata": [
          [
           "Data Analyst",
           0.5,
           16,
           "Data Analyst"
          ],
          [
           "Data Engineer",
           0.7,
           10,
           "Data Engineer"
          ],
          [
           "DevOps Engineer",
           1,
           3,
           "DevOps Engineer"
          ],
          [
           "Digital Product Manager",
           1,
           2,
           "Digital Product Manager"
          ],
          [
           "Machine Learning Engineer",
           1,
           2,
           "Machine Learning Engineer"
          ],
          [
           "Product Design (UI & UX)",
           0.625,
           24,
           "Product Design (UI & UX)"
          ],
          [
           "Product Design (UX Researcher)",
           1,
           1,
           "Product Design (UX Researcher)"
          ],
          [
           "Product Manager",
           0.6470588235294118,
           17,
           "Product Manager"
          ],
          [
           "Scrum Master",
           1,
           3,
           "Scrum Master"
          ],
          [
           "Software Architect",
           1,
           1,
           "Software Architect"
          ],
          [
           "Software Engineer (Android)",
           0.7083333333333334,
           24,
           "Software Engineer (Android)"
          ],
          [
           "Software Engineer (Back End)",
           0.7431192660550459,
           109,
           "Software Engineer (Back End)"
          ],
          [
           "Software Engineer (Front End)",
           0.6111111111111112,
           72,
           "Software Engineer (Front End)"
          ],
          [
           "Software Engineer (iOS)",
           1,
           3,
           "Software Engineer (iOS)"
          ]
         ],
         "domain": {
          "x": [
           0,
           1
          ],
          "y": [
           0,
           1
          ]
         },
         "hovertemplate": "<b>Job Division:</b> %{label}<br><b>Active Percentage:</b> %{value:.2%}",
         "ids": [
          "Data Analyst",
          "Data Engineer",
          "DevOps Engineer",
          "Digital Product Manager",
          "Machine Learning Engineer",
          "Product Design (UI & UX)",
          "Product Design (UX Researcher)",
          "Product Manager",
          "Scrum Master",
          "Software Architect",
          "Software Engineer (Android)",
          "Software Engineer (Back End)",
          "Software Engineer (Front End)",
          "Software Engineer (iOS)"
         ],
         "labels": [
          "Data Analyst",
          "Data Engineer",
          "DevOps Engineer",
          "Digital Product Manager",
          "Machine Learning Engineer",
          "Product Design (UI & UX)",
          "Product Design (UX Researcher)",
          "Product Manager",
          "Scrum Master",
          "Software Architect",
          "Software Engineer (Android)",
          "Software Engineer (Back End)",
          "Software Engineer (Front End)",
          "Software Engineer (iOS)"
         ],
         "marker": {
          "colors": [
           "rgb(102, 197, 204)",
           "rgb(246, 207, 113)",
           "rgb(248, 156, 116)",
           "rgb(220, 176, 242)",
           "rgb(135, 197, 95)",
           "rgb(158, 185, 243)",
           "rgb(254, 136, 177)",
           "rgb(201, 219, 116)",
           "rgb(139, 224, 164)",
           "rgb(180, 151, 231)",
           "rgb(179, 179, 179)",
           "rgb(102, 197, 204)",
           "rgb(246, 207, 113)",
           "rgb(248, 156, 116)"
          ]
         },
         "name": "",
         "parents": [
          "",
          "",
          "",
          "",
          "",
          "",
          "",
          "",
          "",
          "",
          "",
          "",
          "",
          ""
         ],
         "sort": true,
         "type": "sunburst",
         "values": [
          0.5,
          0.7,
          1,
          1,
          1,
          0.625,
          1,
          0.6470588235294118,
          1,
          1,
          0.7083333333333334,
          0.7431192660550459,
          0.6111111111111112,
          1
         ]
        }
       ],
       "layout": {
        "height": 800,
        "legend": {
         "orientation": "h",
         "tracegroupgap": 0,
         "x": 0,
         "y": 1.1
        },
        "sunburstcolorway": [
         "rgb(102, 197, 204)",
         "rgb(246, 207, 113)",
         "rgb(248, 156, 116)",
         "rgb(220, 176, 242)",
         "rgb(135, 197, 95)",
         "rgb(158, 185, 243)",
         "rgb(254, 136, 177)",
         "rgb(201, 219, 116)",
         "rgb(139, 224, 164)",
         "rgb(180, 151, 231)",
         "rgb(179, 179, 179)"
        ],
        "template": {
         "data": {
          "bar": [
           {
            "error_x": {
             "color": "#2a3f5f"
            },
            "error_y": {
             "color": "#2a3f5f"
            },
            "marker": {
             "line": {
              "color": "#E5ECF6",
              "width": 0.5
             },
             "pattern": {
              "fillmode": "overlay",
              "size": 10,
              "solidity": 0.2
             }
            },
            "type": "bar"
           }
          ],
          "barpolar": [
           {
            "marker": {
             "line": {
              "color": "#E5ECF6",
              "width": 0.5
             },
             "pattern": {
              "fillmode": "overlay",
              "size": 10,
              "solidity": 0.2
             }
            },
            "type": "barpolar"
           }
          ],
          "carpet": [
           {
            "aaxis": {
             "endlinecolor": "#2a3f5f",
             "gridcolor": "white",
             "linecolor": "white",
             "minorgridcolor": "white",
             "startlinecolor": "#2a3f5f"
            },
            "baxis": {
             "endlinecolor": "#2a3f5f",
             "gridcolor": "white",
             "linecolor": "white",
             "minorgridcolor": "white",
             "startlinecolor": "#2a3f5f"
            },
            "type": "carpet"
           }
          ],
          "choropleth": [
           {
            "colorbar": {
             "outlinewidth": 0,
             "ticks": ""
            },
            "type": "choropleth"
           }
          ],
          "contour": [
           {
            "colorbar": {
             "outlinewidth": 0,
             "ticks": ""
            },
            "colorscale": [
             [
              0,
              "#0d0887"
             ],
             [
              0.1111111111111111,
              "#46039f"
             ],
             [
              0.2222222222222222,
              "#7201a8"
             ],
             [
              0.3333333333333333,
              "#9c179e"
             ],
             [
              0.4444444444444444,
              "#bd3786"
             ],
             [
              0.5555555555555556,
              "#d8576b"
             ],
             [
              0.6666666666666666,
              "#ed7953"
             ],
             [
              0.7777777777777778,
              "#fb9f3a"
             ],
             [
              0.8888888888888888,
              "#fdca26"
             ],
             [
              1,
              "#f0f921"
             ]
            ],
            "type": "contour"
           }
          ],
          "contourcarpet": [
           {
            "colorbar": {
             "outlinewidth": 0,
             "ticks": ""
            },
            "type": "contourcarpet"
           }
          ],
          "heatmap": [
           {
            "colorbar": {
             "outlinewidth": 0,
             "ticks": ""
            },
            "colorscale": [
             [
              0,
              "#0d0887"
             ],
             [
              0.1111111111111111,
              "#46039f"
             ],
             [
              0.2222222222222222,
              "#7201a8"
             ],
             [
              0.3333333333333333,
              "#9c179e"
             ],
             [
              0.4444444444444444,
              "#bd3786"
             ],
             [
              0.5555555555555556,
              "#d8576b"
             ],
             [
              0.6666666666666666,
              "#ed7953"
             ],
             [
              0.7777777777777778,
              "#fb9f3a"
             ],
             [
              0.8888888888888888,
              "#fdca26"
             ],
             [
              1,
              "#f0f921"
             ]
            ],
            "type": "heatmap"
           }
          ],
          "heatmapgl": [
           {
            "colorbar": {
             "outlinewidth": 0,
             "ticks": ""
            },
            "colorscale": [
             [
              0,
              "#0d0887"
             ],
             [
              0.1111111111111111,
              "#46039f"
             ],
             [
              0.2222222222222222,
              "#7201a8"
             ],
             [
              0.3333333333333333,
              "#9c179e"
             ],
             [
              0.4444444444444444,
              "#bd3786"
             ],
             [
              0.5555555555555556,
              "#d8576b"
             ],
             [
              0.6666666666666666,
              "#ed7953"
             ],
             [
              0.7777777777777778,
              "#fb9f3a"
             ],
             [
              0.8888888888888888,
              "#fdca26"
             ],
             [
              1,
              "#f0f921"
             ]
            ],
            "type": "heatmapgl"
           }
          ],
          "histogram": [
           {
            "marker": {
             "pattern": {
              "fillmode": "overlay",
              "size": 10,
              "solidity": 0.2
             }
            },
            "type": "histogram"
           }
          ],
          "histogram2d": [
           {
            "colorbar": {
             "outlinewidth": 0,
             "ticks": ""
            },
            "colorscale": [
             [
              0,
              "#0d0887"
             ],
             [
              0.1111111111111111,
              "#46039f"
             ],
             [
              0.2222222222222222,
              "#7201a8"
             ],
             [
              0.3333333333333333,
              "#9c179e"
             ],
             [
              0.4444444444444444,
              "#bd3786"
             ],
             [
              0.5555555555555556,
              "#d8576b"
             ],
             [
              0.6666666666666666,
              "#ed7953"
             ],
             [
              0.7777777777777778,
              "#fb9f3a"
             ],
             [
              0.8888888888888888,
              "#fdca26"
             ],
             [
              1,
              "#f0f921"
             ]
            ],
            "type": "histogram2d"
           }
          ],
          "histogram2dcontour": [
           {
            "colorbar": {
             "outlinewidth": 0,
             "ticks": ""
            },
            "colorscale": [
             [
              0,
              "#0d0887"
             ],
             [
              0.1111111111111111,
              "#46039f"
             ],
             [
              0.2222222222222222,
              "#7201a8"
             ],
             [
              0.3333333333333333,
              "#9c179e"
             ],
             [
              0.4444444444444444,
              "#bd3786"
             ],
             [
              0.5555555555555556,
              "#d8576b"
             ],
             [
              0.6666666666666666,
              "#ed7953"
             ],
             [
              0.7777777777777778,
              "#fb9f3a"
             ],
             [
              0.8888888888888888,
              "#fdca26"
             ],
             [
              1,
              "#f0f921"
             ]
            ],
            "type": "histogram2dcontour"
           }
          ],
          "mesh3d": [
           {
            "colorbar": {
             "outlinewidth": 0,
             "ticks": ""
            },
            "type": "mesh3d"
           }
          ],
          "parcoords": [
           {
            "line": {
             "colorbar": {
              "outlinewidth": 0,
              "ticks": ""
             }
            },
            "type": "parcoords"
           }
          ],
          "pie": [
           {
            "automargin": true,
            "type": "pie"
           }
          ],
          "scatter": [
           {
            "fillpattern": {
             "fillmode": "overlay",
             "size": 10,
             "solidity": 0.2
            },
            "type": "scatter"
           }
          ],
          "scatter3d": [
           {
            "line": {
             "colorbar": {
              "outlinewidth": 0,
              "ticks": ""
             }
            },
            "marker": {
             "colorbar": {
              "outlinewidth": 0,
              "ticks": ""
             }
            },
            "type": "scatter3d"
           }
          ],
          "scattercarpet": [
           {
            "marker": {
             "colorbar": {
              "outlinewidth": 0,
              "ticks": ""
             }
            },
            "type": "scattercarpet"
           }
          ],
          "scattergeo": [
           {
            "marker": {
             "colorbar": {
              "outlinewidth": 0,
              "ticks": ""
             }
            },
            "type": "scattergeo"
           }
          ],
          "scattergl": [
           {
            "marker": {
             "colorbar": {
              "outlinewidth": 0,
              "ticks": ""
             }
            },
            "type": "scattergl"
           }
          ],
          "scattermapbox": [
           {
            "marker": {
             "colorbar": {
              "outlinewidth": 0,
              "ticks": ""
             }
            },
            "type": "scattermapbox"
           }
          ],
          "scatterpolar": [
           {
            "marker": {
             "colorbar": {
              "outlinewidth": 0,
              "ticks": ""
             }
            },
            "type": "scatterpolar"
           }
          ],
          "scatterpolargl": [
           {
            "marker": {
             "colorbar": {
              "outlinewidth": 0,
              "ticks": ""
             }
            },
            "type": "scatterpolargl"
           }
          ],
          "scatterternary": [
           {
            "marker": {
             "colorbar": {
              "outlinewidth": 0,
              "ticks": ""
             }
            },
            "type": "scatterternary"
           }
          ],
          "surface": [
           {
            "colorbar": {
             "outlinewidth": 0,
             "ticks": ""
            },
            "colorscale": [
             [
              0,
              "#0d0887"
             ],
             [
              0.1111111111111111,
              "#46039f"
             ],
             [
              0.2222222222222222,
              "#7201a8"
             ],
             [
              0.3333333333333333,
              "#9c179e"
             ],
             [
              0.4444444444444444,
              "#bd3786"
             ],
             [
              0.5555555555555556,
              "#d8576b"
             ],
             [
              0.6666666666666666,
              "#ed7953"
             ],
             [
              0.7777777777777778,
              "#fb9f3a"
             ],
             [
              0.8888888888888888,
              "#fdca26"
             ],
             [
              1,
              "#f0f921"
             ]
            ],
            "type": "surface"
           }
          ],
          "table": [
           {
            "cells": {
             "fill": {
              "color": "#EBF0F8"
             },
             "line": {
              "color": "white"
             }
            },
            "header": {
             "fill": {
              "color": "#C8D4E3"
             },
             "line": {
              "color": "white"
             }
            },
            "type": "table"
           }
          ]
         },
         "layout": {
          "annotationdefaults": {
           "arrowcolor": "#2a3f5f",
           "arrowhead": 0,
           "arrowwidth": 1
          },
          "autotypenumbers": "strict",
          "coloraxis": {
           "colorbar": {
            "outlinewidth": 0,
            "ticks": ""
           }
          },
          "colorscale": {
           "diverging": [
            [
             0,
             "#8e0152"
            ],
            [
             0.1,
             "#c51b7d"
            ],
            [
             0.2,
             "#de77ae"
            ],
            [
             0.3,
             "#f1b6da"
            ],
            [
             0.4,
             "#fde0ef"
            ],
            [
             0.5,
             "#f7f7f7"
            ],
            [
             0.6,
             "#e6f5d0"
            ],
            [
             0.7,
             "#b8e186"
            ],
            [
             0.8,
             "#7fbc41"
            ],
            [
             0.9,
             "#4d9221"
            ],
            [
             1,
             "#276419"
            ]
           ],
           "sequential": [
            [
             0,
             "#0d0887"
            ],
            [
             0.1111111111111111,
             "#46039f"
            ],
            [
             0.2222222222222222,
             "#7201a8"
            ],
            [
             0.3333333333333333,
             "#9c179e"
            ],
            [
             0.4444444444444444,
             "#bd3786"
            ],
            [
             0.5555555555555556,
             "#d8576b"
            ],
            [
             0.6666666666666666,
             "#ed7953"
            ],
            [
             0.7777777777777778,
             "#fb9f3a"
            ],
            [
             0.8888888888888888,
             "#fdca26"
            ],
            [
             1,
             "#f0f921"
            ]
           ],
           "sequentialminus": [
            [
             0,
             "#0d0887"
            ],
            [
             0.1111111111111111,
             "#46039f"
            ],
            [
             0.2222222222222222,
             "#7201a8"
            ],
            [
             0.3333333333333333,
             "#9c179e"
            ],
            [
             0.4444444444444444,
             "#bd3786"
            ],
            [
             0.5555555555555556,
             "#d8576b"
            ],
            [
             0.6666666666666666,
             "#ed7953"
            ],
            [
             0.7777777777777778,
             "#fb9f3a"
            ],
            [
             0.8888888888888888,
             "#fdca26"
            ],
            [
             1,
             "#f0f921"
            ]
           ]
          },
          "colorway": [
           "#636efa",
           "#EF553B",
           "#00cc96",
           "#ab63fa",
           "#FFA15A",
           "#19d3f3",
           "#FF6692",
           "#B6E880",
           "#FF97FF",
           "#FECB52"
          ],
          "font": {
           "color": "#2a3f5f"
          },
          "geo": {
           "bgcolor": "white",
           "lakecolor": "white",
           "landcolor": "#E5ECF6",
           "showlakes": true,
           "showland": true,
           "subunitcolor": "white"
          },
          "hoverlabel": {
           "align": "left"
          },
          "hovermode": "closest",
          "mapbox": {
           "style": "light"
          },
          "paper_bgcolor": "white",
          "plot_bgcolor": "#E5ECF6",
          "polar": {
           "angularaxis": {
            "gridcolor": "white",
            "linecolor": "white",
            "ticks": ""
           },
           "bgcolor": "#E5ECF6",
           "radialaxis": {
            "gridcolor": "white",
            "linecolor": "white",
            "ticks": ""
           }
          },
          "scene": {
           "xaxis": {
            "backgroundcolor": "#E5ECF6",
            "gridcolor": "white",
            "gridwidth": 2,
            "linecolor": "white",
            "showbackground": true,
            "ticks": "",
            "zerolinecolor": "white"
           },
           "yaxis": {
            "backgroundcolor": "#E5ECF6",
            "gridcolor": "white",
            "gridwidth": 2,
            "linecolor": "white",
            "showbackground": true,
            "ticks": "",
            "zerolinecolor": "white"
           },
           "zaxis": {
            "backgroundcolor": "#E5ECF6",
            "gridcolor": "white",
            "gridwidth": 2,
            "linecolor": "white",
            "showbackground": true,
            "ticks": "",
            "zerolinecolor": "white"
           }
          },
          "shapedefaults": {
           "line": {
            "color": "#2a3f5f"
           }
          },
          "ternary": {
           "aaxis": {
            "gridcolor": "white",
            "linecolor": "white",
            "ticks": ""
           },
           "baxis": {
            "gridcolor": "white",
            "linecolor": "white",
            "ticks": ""
           },
           "bgcolor": "#E5ECF6",
           "caxis": {
            "gridcolor": "white",
            "linecolor": "white",
            "ticks": ""
           }
          },
          "title": {
           "x": 0.05
          },
          "xaxis": {
           "automargin": true,
           "gridcolor": "white",
           "linecolor": "white",
           "ticks": "",
           "title": {
            "standoff": 15
           },
           "zerolinecolor": "white",
           "zerolinewidth": 2
          },
          "yaxis": {
           "automargin": true,
           "gridcolor": "white",
           "linecolor": "white",
           "ticks": "",
           "title": {
            "standoff": 15
           },
           "zerolinecolor": "white",
           "zerolinewidth": 2
          }
         }
        },
        "title": {
         "text": "Percentage of Active Employees per Job Division"
        },
        "width": 1000
       }
      }
     },
     "metadata": {},
     "output_type": "display_data"
    }
   ],
   "source": [
    "import plotly.express as px\n",
    "\n",
    "fig = px.sunburst(Pekerjaan_yes_no, path=['Pekerjaan'], values='active_percent',\n",
    "                 color='Pekerjaan', hover_data=['Pekerjaan', 'active_percent', 'total'],\n",
    "                 title='Percentage of Active Employees per Job Division',\n",
    "                 color_discrete_sequence=px.colors.qualitative.Pastel,\n",
    "                 width=1000, height=800)\n",
    "\n",
    "fig.update_traces(sort=True)\n",
    "fig.update_layout(legend=dict(orientation=\"h\", x=0, y=1.1))\n",
    "fig.update_traces(hovertemplate=\"<br>\".join([\n",
    "    \"<b>Job Division:</b> %{label}\",\n",
    "    \"<b>Active Percentage:</b> %{value:.2%}\"]))\n",
    "\n",
    "fig.show()"
   ]
  },
  {
   "cell_type": "markdown",
   "id": "03d57276",
   "metadata": {},
   "source": [
    "The figure shows all the job division along with total active employees for each division\n",
    "\n",
    "- DevOps Engineer, Digital Product Manager, Machine Learning Engineer, Product Design (UX Researcher), Scrum Master, Software Architect, and Software Engineer have 100% active employees, implying that there is no resigned employees\n",
    "- Data analyst has the highest percentage of resignation rate, followed by Software Engineer, Product Design, Product Manager, Data Engineer, Software Engineer (Android) and Software Engineer (Back End)\n"
   ]
  },
  {
   "cell_type": "code",
   "execution_count": 32,
   "id": "7985f779",
   "metadata": {},
   "outputs": [
    {
     "data": {
      "text/html": [
       "<div>\n",
       "<style scoped>\n",
       "    .dataframe tbody tr th:only-of-type {\n",
       "        vertical-align: middle;\n",
       "    }\n",
       "\n",
       "    .dataframe tbody tr th {\n",
       "        vertical-align: top;\n",
       "    }\n",
       "\n",
       "    .dataframe thead th {\n",
       "        text-align: right;\n",
       "    }\n",
       "</style>\n",
       "<table border=\"1\" class=\"dataframe\">\n",
       "  <thead>\n",
       "    <tr style=\"text-align: right;\">\n",
       "      <th></th>\n",
       "      <th>JenjangKarir</th>\n",
       "      <th>PerformancePegawai</th>\n",
       "      <th>AlasanResign</th>\n",
       "      <th>Pekerjaan</th>\n",
       "    </tr>\n",
       "  </thead>\n",
       "  <tbody>\n",
       "    <tr>\n",
       "      <th>0</th>\n",
       "      <td>Freshgraduate_program</td>\n",
       "      <td>Bagus</td>\n",
       "      <td>toxic_culture</td>\n",
       "      <td>1</td>\n",
       "    </tr>\n",
       "    <tr>\n",
       "      <th>1</th>\n",
       "      <td>Freshgraduate_program</td>\n",
       "      <td>Biasa</td>\n",
       "      <td>internal_conflict</td>\n",
       "      <td>1</td>\n",
       "    </tr>\n",
       "    <tr>\n",
       "      <th>2</th>\n",
       "      <td>Freshgraduate_program</td>\n",
       "      <td>Biasa</td>\n",
       "      <td>toxic_culture</td>\n",
       "      <td>1</td>\n",
       "    </tr>\n",
       "    <tr>\n",
       "      <th>3</th>\n",
       "      <td>Freshgraduate_program</td>\n",
       "      <td>Sangat_bagus</td>\n",
       "      <td>internal_conflict</td>\n",
       "      <td>1</td>\n",
       "    </tr>\n",
       "    <tr>\n",
       "      <th>4</th>\n",
       "      <td>Freshgraduate_program</td>\n",
       "      <td>Sangat_bagus</td>\n",
       "      <td>toxic_culture</td>\n",
       "      <td>3</td>\n",
       "    </tr>\n",
       "    <tr>\n",
       "      <th>5</th>\n",
       "      <td>Freshgraduate_program</td>\n",
       "      <td>Sangat_kurang</td>\n",
       "      <td>toxic_culture</td>\n",
       "      <td>1</td>\n",
       "    </tr>\n",
       "  </tbody>\n",
       "</table>\n",
       "</div>"
      ],
      "text/plain": [
       "            JenjangKarir PerformancePegawai       AlasanResign  Pekerjaan\n",
       "0  Freshgraduate_program              Bagus      toxic_culture          1\n",
       "1  Freshgraduate_program              Biasa  internal_conflict          1\n",
       "2  Freshgraduate_program              Biasa      toxic_culture          1\n",
       "3  Freshgraduate_program       Sangat_bagus  internal_conflict          1\n",
       "4  Freshgraduate_program       Sangat_bagus      toxic_culture          3\n",
       "5  Freshgraduate_program      Sangat_kurang      toxic_culture          1"
      ]
     },
     "execution_count": 32,
     "metadata": {},
     "output_type": "execute_result"
    }
   ],
   "source": [
    "# Aggregate Table for Resigned Data Analyis (Job Divisin with Highest Resignation Rate)\n",
    "Data_Analyst_Resign = Resign_yes[Resign_yes['Pekerjaan'] == 'Data Analyst']\n",
    "DA_resigned = Data_Analyst_Resign.groupby(['JenjangKarir', 'PerformancePegawai', 'AlasanResign']).agg(Pekerjaan=('Pekerjaan', 'count')).reset_index()\n",
    "DA_resigned"
   ]
  },
  {
   "cell_type": "code",
   "execution_count": 46,
   "id": "0b83bd02",
   "metadata": {},
   "outputs": [
    {
     "data": {
      "application/vnd.plotly.v1+json": {
       "config": {
        "plotlyServerURL": "https://plot.ly"
       },
       "data": [
        {
         "branchvalues": "total",
         "customdata": [
          [
           "Freshgraduate_program",
           "Biasa",
           "internal_conflict",
           1,
           1
          ],
          [
           "Freshgraduate_program",
           "Sangat_bagus",
           "internal_conflict",
           1,
           1
          ],
          [
           "Freshgraduate_program",
           "Bagus",
           "toxic_culture",
           1,
           1
          ],
          [
           "Freshgraduate_program",
           "Biasa",
           "toxic_culture",
           1,
           1
          ],
          [
           "Freshgraduate_program",
           "Sangat_bagus",
           "toxic_culture",
           3,
           3
          ],
          [
           "Freshgraduate_program",
           "Sangat_kurang",
           "toxic_culture",
           1,
           1
          ],
          [
           "Freshgraduate_program",
           "Bagus",
           "toxic_culture",
           1,
           1
          ],
          [
           "Freshgraduate_program",
           "Biasa",
           "(?)",
           1,
           1
          ],
          [
           "Freshgraduate_program",
           "Sangat_bagus",
           "(?)",
           2.5,
           2.5
          ],
          [
           "Freshgraduate_program",
           "Sangat_kurang",
           "toxic_culture",
           1,
           1
          ],
          [
           "Freshgraduate_program",
           "(?)",
           "(?)",
           1.75,
           1.75
          ]
         ],
         "domain": {
          "x": [
           0,
           1
          ],
          "y": [
           0,
           1
          ]
         },
         "hovertemplate": "\n<b>Career Path:</b> %{customdata[0]}<br>\n<b>Performance:</b> %{customdata[1]}<br>\n<b>Resignation Reason:</b> %{customdata[2]}<br>\n<b>Job Title:</b> %{customdata[3]}\n",
         "ids": [
          "Freshgraduate_program/Biasa/internal_conflict",
          "Freshgraduate_program/Sangat_bagus/internal_conflict",
          "Freshgraduate_program/Bagus/toxic_culture",
          "Freshgraduate_program/Biasa/toxic_culture",
          "Freshgraduate_program/Sangat_bagus/toxic_culture",
          "Freshgraduate_program/Sangat_kurang/toxic_culture",
          "Freshgraduate_program/Bagus",
          "Freshgraduate_program/Biasa",
          "Freshgraduate_program/Sangat_bagus",
          "Freshgraduate_program/Sangat_kurang",
          "Freshgraduate_program"
         ],
         "labels": [
          "internal_conflict",
          "internal_conflict",
          "toxic_culture",
          "toxic_culture",
          "toxic_culture",
          "toxic_culture",
          "Bagus",
          "Biasa",
          "Sangat_bagus",
          "Sangat_kurang",
          "Freshgraduate_program"
         ],
         "marker": {
          "coloraxis": "coloraxis",
          "colors": [
           1,
           1,
           1,
           1,
           3,
           1,
           1,
           1,
           2.5,
           1,
           1.75
          ]
         },
         "name": "",
         "parents": [
          "Freshgraduate_program/Biasa",
          "Freshgraduate_program/Sangat_bagus",
          "Freshgraduate_program/Bagus",
          "Freshgraduate_program/Biasa",
          "Freshgraduate_program/Sangat_bagus",
          "Freshgraduate_program/Sangat_kurang",
          "Freshgraduate_program",
          "Freshgraduate_program",
          "Freshgraduate_program",
          "Freshgraduate_program",
          ""
         ],
         "sort": true,
         "type": "sunburst",
         "values": [
          1,
          1,
          1,
          1,
          3,
          1,
          1,
          2,
          4,
          1,
          8
         ]
        }
       ],
       "layout": {
        "coloraxis": {
         "colorbar": {
          "title": {
           "text": "Pekerjaan"
          }
         },
         "colorscale": [
          [
           0,
           "#0d0887"
          ],
          [
           0.1111111111111111,
           "#46039f"
          ],
          [
           0.2222222222222222,
           "#7201a8"
          ],
          [
           0.3333333333333333,
           "#9c179e"
          ],
          [
           0.4444444444444444,
           "#bd3786"
          ],
          [
           0.5555555555555556,
           "#d8576b"
          ],
          [
           0.6666666666666666,
           "#ed7953"
          ],
          [
           0.7777777777777778,
           "#fb9f3a"
          ],
          [
           0.8888888888888888,
           "#fdca26"
          ],
          [
           1,
           "#f0f921"
          ]
         ]
        },
        "font": {
         "size": 12
        },
        "height": 800,
        "legend": {
         "font": {
          "size": 10
         },
         "tracegroupgap": 0
        },
        "sunburstcolorway": [
         "rgb(102, 197, 204)",
         "rgb(246, 207, 113)",
         "rgb(248, 156, 116)",
         "rgb(220, 176, 242)",
         "rgb(135, 197, 95)",
         "rgb(158, 185, 243)",
         "rgb(254, 136, 177)",
         "rgb(201, 219, 116)",
         "rgb(139, 224, 164)",
         "rgb(180, 151, 231)",
         "rgb(179, 179, 179)"
        ],
        "template": {
         "data": {
          "bar": [
           {
            "error_x": {
             "color": "#2a3f5f"
            },
            "error_y": {
             "color": "#2a3f5f"
            },
            "marker": {
             "line": {
              "color": "#E5ECF6",
              "width": 0.5
             },
             "pattern": {
              "fillmode": "overlay",
              "size": 10,
              "solidity": 0.2
             }
            },
            "type": "bar"
           }
          ],
          "barpolar": [
           {
            "marker": {
             "line": {
              "color": "#E5ECF6",
              "width": 0.5
             },
             "pattern": {
              "fillmode": "overlay",
              "size": 10,
              "solidity": 0.2
             }
            },
            "type": "barpolar"
           }
          ],
          "carpet": [
           {
            "aaxis": {
             "endlinecolor": "#2a3f5f",
             "gridcolor": "white",
             "linecolor": "white",
             "minorgridcolor": "white",
             "startlinecolor": "#2a3f5f"
            },
            "baxis": {
             "endlinecolor": "#2a3f5f",
             "gridcolor": "white",
             "linecolor": "white",
             "minorgridcolor": "white",
             "startlinecolor": "#2a3f5f"
            },
            "type": "carpet"
           }
          ],
          "choropleth": [
           {
            "colorbar": {
             "outlinewidth": 0,
             "ticks": ""
            },
            "type": "choropleth"
           }
          ],
          "contour": [
           {
            "colorbar": {
             "outlinewidth": 0,
             "ticks": ""
            },
            "colorscale": [
             [
              0,
              "#0d0887"
             ],
             [
              0.1111111111111111,
              "#46039f"
             ],
             [
              0.2222222222222222,
              "#7201a8"
             ],
             [
              0.3333333333333333,
              "#9c179e"
             ],
             [
              0.4444444444444444,
              "#bd3786"
             ],
             [
              0.5555555555555556,
              "#d8576b"
             ],
             [
              0.6666666666666666,
              "#ed7953"
             ],
             [
              0.7777777777777778,
              "#fb9f3a"
             ],
             [
              0.8888888888888888,
              "#fdca26"
             ],
             [
              1,
              "#f0f921"
             ]
            ],
            "type": "contour"
           }
          ],
          "contourcarpet": [
           {
            "colorbar": {
             "outlinewidth": 0,
             "ticks": ""
            },
            "type": "contourcarpet"
           }
          ],
          "heatmap": [
           {
            "colorbar": {
             "outlinewidth": 0,
             "ticks": ""
            },
            "colorscale": [
             [
              0,
              "#0d0887"
             ],
             [
              0.1111111111111111,
              "#46039f"
             ],
             [
              0.2222222222222222,
              "#7201a8"
             ],
             [
              0.3333333333333333,
              "#9c179e"
             ],
             [
              0.4444444444444444,
              "#bd3786"
             ],
             [
              0.5555555555555556,
              "#d8576b"
             ],
             [
              0.6666666666666666,
              "#ed7953"
             ],
             [
              0.7777777777777778,
              "#fb9f3a"
             ],
             [
              0.8888888888888888,
              "#fdca26"
             ],
             [
              1,
              "#f0f921"
             ]
            ],
            "type": "heatmap"
           }
          ],
          "heatmapgl": [
           {
            "colorbar": {
             "outlinewidth": 0,
             "ticks": ""
            },
            "colorscale": [
             [
              0,
              "#0d0887"
             ],
             [
              0.1111111111111111,
              "#46039f"
             ],
             [
              0.2222222222222222,
              "#7201a8"
             ],
             [
              0.3333333333333333,
              "#9c179e"
             ],
             [
              0.4444444444444444,
              "#bd3786"
             ],
             [
              0.5555555555555556,
              "#d8576b"
             ],
             [
              0.6666666666666666,
              "#ed7953"
             ],
             [
              0.7777777777777778,
              "#fb9f3a"
             ],
             [
              0.8888888888888888,
              "#fdca26"
             ],
             [
              1,
              "#f0f921"
             ]
            ],
            "type": "heatmapgl"
           }
          ],
          "histogram": [
           {
            "marker": {
             "pattern": {
              "fillmode": "overlay",
              "size": 10,
              "solidity": 0.2
             }
            },
            "type": "histogram"
           }
          ],
          "histogram2d": [
           {
            "colorbar": {
             "outlinewidth": 0,
             "ticks": ""
            },
            "colorscale": [
             [
              0,
              "#0d0887"
             ],
             [
              0.1111111111111111,
              "#46039f"
             ],
             [
              0.2222222222222222,
              "#7201a8"
             ],
             [
              0.3333333333333333,
              "#9c179e"
             ],
             [
              0.4444444444444444,
              "#bd3786"
             ],
             [
              0.5555555555555556,
              "#d8576b"
             ],
             [
              0.6666666666666666,
              "#ed7953"
             ],
             [
              0.7777777777777778,
              "#fb9f3a"
             ],
             [
              0.8888888888888888,
              "#fdca26"
             ],
             [
              1,
              "#f0f921"
             ]
            ],
            "type": "histogram2d"
           }
          ],
          "histogram2dcontour": [
           {
            "colorbar": {
             "outlinewidth": 0,
             "ticks": ""
            },
            "colorscale": [
             [
              0,
              "#0d0887"
             ],
             [
              0.1111111111111111,
              "#46039f"
             ],
             [
              0.2222222222222222,
              "#7201a8"
             ],
             [
              0.3333333333333333,
              "#9c179e"
             ],
             [
              0.4444444444444444,
              "#bd3786"
             ],
             [
              0.5555555555555556,
              "#d8576b"
             ],
             [
              0.6666666666666666,
              "#ed7953"
             ],
             [
              0.7777777777777778,
              "#fb9f3a"
             ],
             [
              0.8888888888888888,
              "#fdca26"
             ],
             [
              1,
              "#f0f921"
             ]
            ],
            "type": "histogram2dcontour"
           }
          ],
          "mesh3d": [
           {
            "colorbar": {
             "outlinewidth": 0,
             "ticks": ""
            },
            "type": "mesh3d"
           }
          ],
          "parcoords": [
           {
            "line": {
             "colorbar": {
              "outlinewidth": 0,
              "ticks": ""
             }
            },
            "type": "parcoords"
           }
          ],
          "pie": [
           {
            "automargin": true,
            "type": "pie"
           }
          ],
          "scatter": [
           {
            "fillpattern": {
             "fillmode": "overlay",
             "size": 10,
             "solidity": 0.2
            },
            "type": "scatter"
           }
          ],
          "scatter3d": [
           {
            "line": {
             "colorbar": {
              "outlinewidth": 0,
              "ticks": ""
             }
            },
            "marker": {
             "colorbar": {
              "outlinewidth": 0,
              "ticks": ""
             }
            },
            "type": "scatter3d"
           }
          ],
          "scattercarpet": [
           {
            "marker": {
             "colorbar": {
              "outlinewidth": 0,
              "ticks": ""
             }
            },
            "type": "scattercarpet"
           }
          ],
          "scattergeo": [
           {
            "marker": {
             "colorbar": {
              "outlinewidth": 0,
              "ticks": ""
             }
            },
            "type": "scattergeo"
           }
          ],
          "scattergl": [
           {
            "marker": {
             "colorbar": {
              "outlinewidth": 0,
              "ticks": ""
             }
            },
            "type": "scattergl"
           }
          ],
          "scattermapbox": [
           {
            "marker": {
             "colorbar": {
              "outlinewidth": 0,
              "ticks": ""
             }
            },
            "type": "scattermapbox"
           }
          ],
          "scatterpolar": [
           {
            "marker": {
             "colorbar": {
              "outlinewidth": 0,
              "ticks": ""
             }
            },
            "type": "scatterpolar"
           }
          ],
          "scatterpolargl": [
           {
            "marker": {
             "colorbar": {
              "outlinewidth": 0,
              "ticks": ""
             }
            },
            "type": "scatterpolargl"
           }
          ],
          "scatterternary": [
           {
            "marker": {
             "colorbar": {
              "outlinewidth": 0,
              "ticks": ""
             }
            },
            "type": "scatterternary"
           }
          ],
          "surface": [
           {
            "colorbar": {
             "outlinewidth": 0,
             "ticks": ""
            },
            "colorscale": [
             [
              0,
              "#0d0887"
             ],
             [
              0.1111111111111111,
              "#46039f"
             ],
             [
              0.2222222222222222,
              "#7201a8"
             ],
             [
              0.3333333333333333,
              "#9c179e"
             ],
             [
              0.4444444444444444,
              "#bd3786"
             ],
             [
              0.5555555555555556,
              "#d8576b"
             ],
             [
              0.6666666666666666,
              "#ed7953"
             ],
             [
              0.7777777777777778,
              "#fb9f3a"
             ],
             [
              0.8888888888888888,
              "#fdca26"
             ],
             [
              1,
              "#f0f921"
             ]
            ],
            "type": "surface"
           }
          ],
          "table": [
           {
            "cells": {
             "fill": {
              "color": "#EBF0F8"
             },
             "line": {
              "color": "white"
             }
            },
            "header": {
             "fill": {
              "color": "#C8D4E3"
             },
             "line": {
              "color": "white"
             }
            },
            "type": "table"
           }
          ]
         },
         "layout": {
          "annotationdefaults": {
           "arrowcolor": "#2a3f5f",
           "arrowhead": 0,
           "arrowwidth": 1
          },
          "autotypenumbers": "strict",
          "coloraxis": {
           "colorbar": {
            "outlinewidth": 0,
            "ticks": ""
           }
          },
          "colorscale": {
           "diverging": [
            [
             0,
             "#8e0152"
            ],
            [
             0.1,
             "#c51b7d"
            ],
            [
             0.2,
             "#de77ae"
            ],
            [
             0.3,
             "#f1b6da"
            ],
            [
             0.4,
             "#fde0ef"
            ],
            [
             0.5,
             "#f7f7f7"
            ],
            [
             0.6,
             "#e6f5d0"
            ],
            [
             0.7,
             "#b8e186"
            ],
            [
             0.8,
             "#7fbc41"
            ],
            [
             0.9,
             "#4d9221"
            ],
            [
             1,
             "#276419"
            ]
           ],
           "sequential": [
            [
             0,
             "#0d0887"
            ],
            [
             0.1111111111111111,
             "#46039f"
            ],
            [
             0.2222222222222222,
             "#7201a8"
            ],
            [
             0.3333333333333333,
             "#9c179e"
            ],
            [
             0.4444444444444444,
             "#bd3786"
            ],
            [
             0.5555555555555556,
             "#d8576b"
            ],
            [
             0.6666666666666666,
             "#ed7953"
            ],
            [
             0.7777777777777778,
             "#fb9f3a"
            ],
            [
             0.8888888888888888,
             "#fdca26"
            ],
            [
             1,
             "#f0f921"
            ]
           ],
           "sequentialminus": [
            [
             0,
             "#0d0887"
            ],
            [
             0.1111111111111111,
             "#46039f"
            ],
            [
             0.2222222222222222,
             "#7201a8"
            ],
            [
             0.3333333333333333,
             "#9c179e"
            ],
            [
             0.4444444444444444,
             "#bd3786"
            ],
            [
             0.5555555555555556,
             "#d8576b"
            ],
            [
             0.6666666666666666,
             "#ed7953"
            ],
            [
             0.7777777777777778,
             "#fb9f3a"
            ],
            [
             0.8888888888888888,
             "#fdca26"
            ],
            [
             1,
             "#f0f921"
            ]
           ]
          },
          "colorway": [
           "#636efa",
           "#EF553B",
           "#00cc96",
           "#ab63fa",
           "#FFA15A",
           "#19d3f3",
           "#FF6692",
           "#B6E880",
           "#FF97FF",
           "#FECB52"
          ],
          "font": {
           "color": "#2a3f5f"
          },
          "geo": {
           "bgcolor": "white",
           "lakecolor": "white",
           "landcolor": "#E5ECF6",
           "showlakes": true,
           "showland": true,
           "subunitcolor": "white"
          },
          "hoverlabel": {
           "align": "left"
          },
          "hovermode": "closest",
          "mapbox": {
           "style": "light"
          },
          "paper_bgcolor": "white",
          "plot_bgcolor": "#E5ECF6",
          "polar": {
           "angularaxis": {
            "gridcolor": "white",
            "linecolor": "white",
            "ticks": ""
           },
           "bgcolor": "#E5ECF6",
           "radialaxis": {
            "gridcolor": "white",
            "linecolor": "white",
            "ticks": ""
           }
          },
          "scene": {
           "xaxis": {
            "backgroundcolor": "#E5ECF6",
            "gridcolor": "white",
            "gridwidth": 2,
            "linecolor": "white",
            "showbackground": true,
            "ticks": "",
            "zerolinecolor": "white"
           },
           "yaxis": {
            "backgroundcolor": "#E5ECF6",
            "gridcolor": "white",
            "gridwidth": 2,
            "linecolor": "white",
            "showbackground": true,
            "ticks": "",
            "zerolinecolor": "white"
           },
           "zaxis": {
            "backgroundcolor": "#E5ECF6",
            "gridcolor": "white",
            "gridwidth": 2,
            "linecolor": "white",
            "showbackground": true,
            "ticks": "",
            "zerolinecolor": "white"
           }
          },
          "shapedefaults": {
           "line": {
            "color": "#2a3f5f"
           }
          },
          "ternary": {
           "aaxis": {
            "gridcolor": "white",
            "linecolor": "white",
            "ticks": ""
           },
           "baxis": {
            "gridcolor": "white",
            "linecolor": "white",
            "ticks": ""
           },
           "bgcolor": "#E5ECF6",
           "caxis": {
            "gridcolor": "white",
            "linecolor": "white",
            "ticks": ""
           }
          },
          "title": {
           "x": 0.05
          },
          "xaxis": {
           "automargin": true,
           "gridcolor": "white",
           "linecolor": "white",
           "ticks": "",
           "title": {
            "standoff": 15
           },
           "zerolinecolor": "white",
           "zerolinewidth": 2
          },
          "yaxis": {
           "automargin": true,
           "gridcolor": "white",
           "linecolor": "white",
           "ticks": "",
           "title": {
            "standoff": 15
           },
           "zerolinecolor": "white",
           "zerolinewidth": 2
          }
         }
        },
        "title": {
         "text": "Career Path, Performance and Reason of Resignation"
        },
        "width": 1000
       }
      }
     },
     "metadata": {},
     "output_type": "display_data"
    }
   ],
   "source": [
    "import plotly.express as px\n",
    "\n",
    "fig = px.sunburst(DA_resigned, path=['JenjangKarir','PerformancePegawai','AlasanResign'], values='Pekerjaan',\n",
    "                 color='Pekerjaan',  \n",
    "                 hover_data=['JenjangKarir', 'PerformancePegawai', 'AlasanResign','Pekerjaan'], \n",
    "                 title='Career Path, Performance and Reason of Resignation',\n",
    "                 color_discrete_sequence=px.colors.qualitative.Pastel, \n",
    "                  width=1000, height=800)\n",
    "\n",
    "fig.update_traces(hovertemplate=\"\"\"<b>Career Path:</b> %{customdata[0]}<br>\n",
    "                                   <b>Performance:</b> %{customdata[1]}<br>\n",
    "                                   <b>Resignation Reason:</b> %{customdata[2]}<br>\n",
    "                                   <b>Job Title:</b> %{customdata[3]}\"\"\")\n",
    "\n",
    "\n",
    "fig.update_traces(sort=True)\n",
    "fig.update_layout(font=dict(size=12),legend=dict(font=dict(size=10)))\n",
    "fig.show()"
   ]
  },
  {
   "cell_type": "markdown",
   "id": "3ec67f79",
   "metadata": {},
   "source": [
    "The figure reveals that toxic culture and internal conflict were the primary reasons for data analyst resignations. \n",
    "- Most of the departing data analysts were fresh graduates with strong performance records.\n",
    "- However, toxic culture was a common factor for resignations across all performance levels, from very good to very poor.\n",
    "- Internal conflict, on the other hand, seems to have been the primary reason for resignations among those with average or very good performance.\n"
   ]
  },
  {
   "cell_type": "markdown",
   "id": "fa0075d5",
   "metadata": {},
   "source": [
    "## Insights and Recommendations\n",
    "\n",
    "Insights:\n",
    "1. **Job Roles and Resignation Rates**: Certain roles, such as Data Analyst, Software Engineer, and Product Design, have higher resignation rates than others like DevOps Engineer, Digital Product Manager, and Scrum Master. This suggests that these roles might be particularly challenging or stressful, or that there are specific issues within these departments that are leading to employee turnover.\n",
    "2. **Fresh Graduate Retention**: The high resignation rate is among fresh graduate data analysts and it is a concern. This may suggest that the expectations did not match the demands of the role, or a lack of adequate training and support for new hires.\n",
    "3. **Toxic Culture as a Major Factor**: Toxic culture appears to be a significant reason to resignations particularly for the job with highest resignation rate, Data Analyst. This suggests that something is fundamentally wrong with the way the company operates or particularly in this job division. \n",
    "4. **Internal Conflict and Performance**: Employees with average or very good performance seems to be more likely to get into conflicts with others as they might have higher expectation to other employees. \n",
    "\n",
    "Recommendations:\n",
    "1. **Role Analysis**: Conduct a thorough analysis of the roles with high resignation rates to identify potential causes of turnover. Consider factors such as workload, job satisfaction, and opportunities for growth.\n",
    "2. **Fresh Graduate Onboarding and Support**: Implement an onboarding program to aid new graduates succeed in their role by providing them with training, mentorship, and support\n",
    "3. **Address Toxic Culture**: Conduct a company-wide assessment of the culture to identify and address any toxic elements. This might involve implementing policies and procedures to promote a positive and inclusive workplace.\n",
    "4. **Conflict Resolution Training**: Provide training to employees on conflict resolution and communication skills to help them navigate workplace challenges more effectively.\n",
    "5. **Employee Engagement Surveys**: Conduct employee engagement surveys to gather feedback on job satisfaction, workplace culture, and opportunities for growth. Use this feedback to identify areas for improvement."
   ]
  }
 ],
 "metadata": {
  "kernelspec": {
   "display_name": "Python 3 (ipykernel)",
   "language": "python",
   "name": "python3"
  },
  "language_info": {
   "codemirror_mode": {
    "name": "ipython",
    "version": 3
   },
   "file_extension": ".py",
   "mimetype": "text/x-python",
   "name": "python",
   "nbconvert_exporter": "python",
   "pygments_lexer": "ipython3",
   "version": "3.11.5"
  }
 },
 "nbformat": 4,
 "nbformat_minor": 5
}
